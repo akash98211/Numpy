{
 "cells": [
  {
   "cell_type": "markdown",
   "id": "visible-logan",
   "metadata": {},
   "source": [
    "# Numpy Functions"
   ]
  },
  {
   "cell_type": "code",
   "execution_count": 1,
   "id": "moral-starter",
   "metadata": {},
   "outputs": [],
   "source": [
    "# 1. np.reshape"
   ]
  },
  {
   "cell_type": "markdown",
   "id": "personalized-excerpt",
   "metadata": {},
   "source": [
    "# 2. np.zeros()"
   ]
  },
  {
   "cell_type": "raw",
   "id": "detailed-equipment",
   "metadata": {},
   "source": [
    "np.zeros(shape,dtype = 'int')\n",
    "Return an array of zero values\n",
    "Weight initialization in deep learning algorithms\n",
    "To create target variable"
   ]
  },
  {
   "cell_type": "code",
   "execution_count": 3,
   "id": "hired-neighborhood",
   "metadata": {},
   "outputs": [],
   "source": [
    "import numpy as np"
   ]
  },
  {
   "cell_type": "code",
   "execution_count": 5,
   "id": "bibliographic-cooling",
   "metadata": {},
   "outputs": [
    {
     "data": {
      "text/plain": [
       "array([0., 0., 0., 0., 0.])"
      ]
     },
     "execution_count": 5,
     "metadata": {},
     "output_type": "execute_result"
    }
   ],
   "source": [
    "arr = np.zeros(5)\n",
    "arr\n"
   ]
  },
  {
   "cell_type": "code",
   "execution_count": 7,
   "id": "bound-edward",
   "metadata": {},
   "outputs": [
    {
     "data": {
      "text/plain": [
       "array([0, 0, 0, 0, 0])"
      ]
     },
     "execution_count": 7,
     "metadata": {},
     "output_type": "execute_result"
    }
   ],
   "source": [
    "arr = np.zeros(5,dtype = 'int')\n",
    "arr"
   ]
  },
  {
   "cell_type": "code",
   "execution_count": null,
   "id": "widespread-paste",
   "metadata": {},
   "outputs": [],
   "source": [
    "1000 class1\n",
    "1000 class2\n"
   ]
  },
  {
   "cell_type": "code",
   "execution_count": 16,
   "id": "extra-mayor",
   "metadata": {},
   "outputs": [
    {
     "data": {
      "text/plain": [
       "array([0, 0, 0, 0, 0, 0, 0, 0, 0, 0, 0, 0, 0, 0, 0, 0, 0, 0, 0, 0, 0, 0,\n",
       "       0, 0, 0, 0, 0, 0, 0, 0, 0, 0, 0, 0, 0, 0, 0, 0, 0, 0, 0, 0, 0, 0,\n",
       "       0, 0, 0, 0, 0, 0, 0, 0, 0, 0, 0, 0, 0, 0, 0, 0, 0, 0, 0, 0, 0, 0,\n",
       "       0, 0, 0, 0, 0, 0, 0, 0, 0, 0, 0, 0, 0, 0, 0, 0, 0, 0, 0, 0, 0, 0,\n",
       "       0, 0, 0, 0, 0, 0, 0, 0, 0, 0, 0, 0])"
      ]
     },
     "execution_count": 16,
     "metadata": {},
     "output_type": "execute_result"
    }
   ],
   "source": [
    "np.zeros(100,dtype = 'int')"
   ]
  },
  {
   "cell_type": "code",
   "execution_count": 18,
   "id": "suburban-classics",
   "metadata": {},
   "outputs": [
    {
     "data": {
      "text/plain": [
       "array([[0, 0, 0],\n",
       "       [0, 0, 0]])"
      ]
     },
     "execution_count": 18,
     "metadata": {},
     "output_type": "execute_result"
    }
   ],
   "source": [
    "arr0 = np.zeros([2,3],dtype = 'int')  # 2 * 3\n",
    "arr0"
   ]
  },
  {
   "cell_type": "code",
   "execution_count": 19,
   "id": "ultimate-chapel",
   "metadata": {},
   "outputs": [
    {
     "data": {
      "text/plain": [
       "array([[0, 0, 0, 0, 0],\n",
       "       [0, 0, 0, 0, 0],\n",
       "       [0, 0, 0, 0, 0],\n",
       "       [0, 0, 0, 0, 0]])"
      ]
     },
     "execution_count": 19,
     "metadata": {},
     "output_type": "execute_result"
    }
   ],
   "source": [
    "arr0 = np.zeros([4,5],dtype = 'int')  # 2 * 3\n",
    "arr0"
   ]
  },
  {
   "cell_type": "markdown",
   "id": "renewable-error",
   "metadata": {},
   "source": [
    "# 3. np.ones()"
   ]
  },
  {
   "cell_type": "code",
   "execution_count": 13,
   "id": "superior-healthcare",
   "metadata": {},
   "outputs": [
    {
     "data": {
      "text/plain": [
       "array([1., 1., 1., 1., 1., 1., 1., 1., 1., 1.])"
      ]
     },
     "execution_count": 13,
     "metadata": {},
     "output_type": "execute_result"
    }
   ],
   "source": [
    "arr1 = np.ones(10)\n",
    "arr1"
   ]
  },
  {
   "cell_type": "code",
   "execution_count": 15,
   "id": "collectible-video",
   "metadata": {},
   "outputs": [
    {
     "data": {
      "text/plain": [
       "array([1, 1, 1, 1, 1, 1, 1, 1, 1, 1])"
      ]
     },
     "execution_count": 15,
     "metadata": {},
     "output_type": "execute_result"
    }
   ],
   "source": [
    "arr1 = np.ones(10,dtype = 'int')\n",
    "arr1"
   ]
  },
  {
   "cell_type": "code",
   "execution_count": 21,
   "id": "supposed-ownership",
   "metadata": {},
   "outputs": [
    {
     "data": {
      "text/plain": [
       "array([[1, 1, 1],\n",
       "       [1, 1, 1]])"
      ]
     },
     "execution_count": 21,
     "metadata": {},
     "output_type": "execute_result"
    }
   ],
   "source": [
    "arr0 = np.ones([2,3],dtype = 'int')  # 2 * 3\n",
    "arr0"
   ]
  },
  {
   "cell_type": "code",
   "execution_count": 26,
   "id": "faced-pricing",
   "metadata": {},
   "outputs": [
    {
     "data": {
      "text/plain": [
       "(5, 6)"
      ]
     },
     "execution_count": 26,
     "metadata": {},
     "output_type": "execute_result"
    }
   ],
   "source": [
    "arr0 = np.ones([5,6],dtype = 'int')  # 2 * 3\n",
    "arr0.shape"
   ]
  },
  {
   "cell_type": "code",
   "execution_count": 25,
   "id": "smoking-stone",
   "metadata": {},
   "outputs": [],
   "source": [
    "import pandas as pd"
   ]
  },
  {
   "cell_type": "code",
   "execution_count": 28,
   "id": "animated-shape",
   "metadata": {},
   "outputs": [
    {
     "data": {
      "text/html": [
       "<div>\n",
       "<style scoped>\n",
       "    .dataframe tbody tr th:only-of-type {\n",
       "        vertical-align: middle;\n",
       "    }\n",
       "\n",
       "    .dataframe tbody tr th {\n",
       "        vertical-align: top;\n",
       "    }\n",
       "\n",
       "    .dataframe thead th {\n",
       "        text-align: right;\n",
       "    }\n",
       "</style>\n",
       "<table border=\"1\" class=\"dataframe\">\n",
       "  <thead>\n",
       "    <tr style=\"text-align: right;\">\n",
       "      <th></th>\n",
       "      <th>0</th>\n",
       "      <th>1</th>\n",
       "      <th>2</th>\n",
       "      <th>3</th>\n",
       "      <th>4</th>\n",
       "      <th>5</th>\n",
       "    </tr>\n",
       "  </thead>\n",
       "  <tbody>\n",
       "    <tr>\n",
       "      <th>0</th>\n",
       "      <td>1</td>\n",
       "      <td>1</td>\n",
       "      <td>1</td>\n",
       "      <td>1</td>\n",
       "      <td>1</td>\n",
       "      <td>1</td>\n",
       "    </tr>\n",
       "    <tr>\n",
       "      <th>1</th>\n",
       "      <td>1</td>\n",
       "      <td>1</td>\n",
       "      <td>1</td>\n",
       "      <td>1</td>\n",
       "      <td>1</td>\n",
       "      <td>1</td>\n",
       "    </tr>\n",
       "    <tr>\n",
       "      <th>2</th>\n",
       "      <td>1</td>\n",
       "      <td>1</td>\n",
       "      <td>1</td>\n",
       "      <td>1</td>\n",
       "      <td>1</td>\n",
       "      <td>1</td>\n",
       "    </tr>\n",
       "    <tr>\n",
       "      <th>3</th>\n",
       "      <td>1</td>\n",
       "      <td>1</td>\n",
       "      <td>1</td>\n",
       "      <td>1</td>\n",
       "      <td>1</td>\n",
       "      <td>1</td>\n",
       "    </tr>\n",
       "    <tr>\n",
       "      <th>4</th>\n",
       "      <td>1</td>\n",
       "      <td>1</td>\n",
       "      <td>1</td>\n",
       "      <td>1</td>\n",
       "      <td>1</td>\n",
       "      <td>1</td>\n",
       "    </tr>\n",
       "  </tbody>\n",
       "</table>\n",
       "</div>"
      ],
      "text/plain": [
       "   0  1  2  3  4  5\n",
       "0  1  1  1  1  1  1\n",
       "1  1  1  1  1  1  1\n",
       "2  1  1  1  1  1  1\n",
       "3  1  1  1  1  1  1\n",
       "4  1  1  1  1  1  1"
      ]
     },
     "execution_count": 28,
     "metadata": {},
     "output_type": "execute_result"
    }
   ],
   "source": [
    "df = pd.DataFrame(arr0)\n",
    "df"
   ]
  },
  {
   "cell_type": "markdown",
   "id": "specialized-weight",
   "metadata": {},
   "source": [
    "# 4. arange()"
   ]
  },
  {
   "cell_type": "code",
   "execution_count": 30,
   "id": "excited-parent",
   "metadata": {},
   "outputs": [
    {
     "name": "stdout",
     "output_type": "stream",
     "text": [
      "[ 1  2  3  4  5  6  7  8  9 10]\n"
     ]
    }
   ],
   "source": [
    "array1 = np.arange(1,11)\n",
    "print(array1)"
   ]
  },
  {
   "cell_type": "code",
   "execution_count": 32,
   "id": "progressive-moses",
   "metadata": {},
   "outputs": [
    {
     "data": {
      "text/plain": [
       "array([10, 11, 12, 13, 14, 15, 16, 17, 18, 19])"
      ]
     },
     "execution_count": 32,
     "metadata": {},
     "output_type": "execute_result"
    }
   ],
   "source": [
    "array1 = np.arange(10,20)\n",
    "array1"
   ]
  },
  {
   "cell_type": "code",
   "execution_count": 35,
   "id": "intended-magazine",
   "metadata": {},
   "outputs": [
    {
     "data": {
      "text/plain": [
       "array([10, 11, 12, 13, 14, 15, 16, 17, 18, 19, 20])"
      ]
     },
     "execution_count": 35,
     "metadata": {},
     "output_type": "execute_result"
    }
   ],
   "source": [
    "array1 = np.arange(10,21,1)\n",
    "array1"
   ]
  },
  {
   "cell_type": "code",
   "execution_count": 37,
   "id": "fancy-episode",
   "metadata": {},
   "outputs": [
    {
     "data": {
      "text/plain": [
       "array([10, 12, 14, 16, 18, 20])"
      ]
     },
     "execution_count": 37,
     "metadata": {},
     "output_type": "execute_result"
    }
   ],
   "source": [
    "array1 = np.arange(10,21,2)\n",
    "array1"
   ]
  },
  {
   "cell_type": "code",
   "execution_count": 40,
   "id": "funny-earth",
   "metadata": {},
   "outputs": [
    {
     "data": {
      "text/plain": [
       "array([21, 20, 19, 18, 17, 16, 15, 14, 13, 12, 11])"
      ]
     },
     "execution_count": 40,
     "metadata": {},
     "output_type": "execute_result"
    }
   ],
   "source": [
    "array1 = np.arange(21,10,-1)\n",
    "array1"
   ]
  },
  {
   "cell_type": "code",
   "execution_count": 42,
   "id": "greater-ecuador",
   "metadata": {},
   "outputs": [
    {
     "data": {
      "text/plain": [
       "array([], dtype=int32)"
      ]
     },
     "execution_count": 42,
     "metadata": {},
     "output_type": "execute_result"
    }
   ],
   "source": [
    "array1 = np.arange(21,10)\n",
    "array1"
   ]
  },
  {
   "cell_type": "code",
   "execution_count": 46,
   "id": "generous-moral",
   "metadata": {},
   "outputs": [
    {
     "data": {
      "text/plain": [
       "(20,)"
      ]
     },
     "execution_count": 46,
     "metadata": {},
     "output_type": "execute_result"
    }
   ],
   "source": [
    "array1 = np.arange(10,30)\n",
    "array1.shape"
   ]
  },
  {
   "cell_type": "code",
   "execution_count": 50,
   "id": "vital-multimedia",
   "metadata": {},
   "outputs": [
    {
     "data": {
      "text/plain": [
       "array([[10, 11, 12, 13],\n",
       "       [14, 15, 16, 17],\n",
       "       [18, 19, 20, 21],\n",
       "       [22, 23, 24, 25],\n",
       "       [26, 27, 28, 29]])"
      ]
     },
     "execution_count": 50,
     "metadata": {},
     "output_type": "execute_result"
    }
   ],
   "source": [
    "array1.reshape([5,4])"
   ]
  },
  {
   "cell_type": "code",
   "execution_count": 51,
   "id": "small-shelf",
   "metadata": {},
   "outputs": [
    {
     "data": {
      "text/plain": [
       "array([[10, 11, 12, 13, 14, 15, 16, 17, 18, 19],\n",
       "       [20, 21, 22, 23, 24, 25, 26, 27, 28, 29]])"
      ]
     },
     "execution_count": 51,
     "metadata": {},
     "output_type": "execute_result"
    }
   ],
   "source": [
    "array1.reshape([2,10])"
   ]
  },
  {
   "cell_type": "markdown",
   "id": "limiting-electricity",
   "metadata": {},
   "source": [
    "# 5. linspace()"
   ]
  },
  {
   "cell_type": "raw",
   "id": "confidential-length",
   "metadata": {},
   "source": [
    "linspace(start,stop,num = 50,retstep = True )\n",
    "Returns evenly spaced values"
   ]
  },
  {
   "cell_type": "code",
   "execution_count": 56,
   "id": "accessory-portland",
   "metadata": {},
   "outputs": [
    {
     "data": {
      "text/plain": [
       "array([ 1.,  2.,  3.,  4.,  5.,  6.,  7.,  8.,  9., 10., 11., 12., 13.,\n",
       "       14., 15., 16., 17., 18., 19., 20., 21., 22., 23., 24., 25., 26.,\n",
       "       27., 28., 29., 30., 31., 32., 33., 34., 35., 36., 37., 38., 39.,\n",
       "       40., 41., 42., 43., 44., 45., 46., 47., 48., 49., 50.])"
      ]
     },
     "execution_count": 56,
     "metadata": {},
     "output_type": "execute_result"
    }
   ],
   "source": [
    "array2 = np.linspace(1,50)\n",
    "array2"
   ]
  },
  {
   "cell_type": "code",
   "execution_count": 58,
   "id": "indie-franchise",
   "metadata": {},
   "outputs": [
    {
     "data": {
      "text/plain": [
       "array([ 1.,  2.,  3.,  4.,  5.,  6.,  7.,  8.,  9., 10., 11., 12., 13.,\n",
       "       14., 15., 16., 17., 18., 19., 20., 21., 22., 23., 24., 25., 26.,\n",
       "       27., 28., 29., 30., 31., 32., 33., 34., 35., 36., 37., 38., 39.,\n",
       "       40., 41., 42., 43., 44., 45., 46., 47., 48., 49., 50.])"
      ]
     },
     "execution_count": 58,
     "metadata": {},
     "output_type": "execute_result"
    }
   ],
   "source": [
    "array2 = np.linspace(1,50, num = 50)\n",
    "array2"
   ]
  },
  {
   "cell_type": "code",
   "execution_count": 81,
   "id": "collect-matrix",
   "metadata": {},
   "outputs": [
    {
     "data": {
      "text/plain": [
       "(array([ 1.        ,  6.44444444, 11.88888889, 17.33333333, 22.77777778,\n",
       "        28.22222222, 33.66666667, 39.11111111, 44.55555556, 50.        ]),\n",
       " 5.444444444444445)"
      ]
     },
     "execution_count": 81,
     "metadata": {},
     "output_type": "execute_result"
    }
   ],
   "source": [
    "array2 = np.linspace(1,50, num = 10,retstep = True)\n",
    "array2"
   ]
  },
  {
   "cell_type": "code",
   "execution_count": 83,
   "id": "current-publicity",
   "metadata": {},
   "outputs": [
    {
     "data": {
      "text/plain": [
       "(array([ 1.,  2.,  3.,  4.,  5.,  6.,  7.,  8.,  9., 10.]), 1.0)"
      ]
     },
     "execution_count": 83,
     "metadata": {},
     "output_type": "execute_result"
    }
   ],
   "source": [
    "array2 = np.linspace(1,10, num = 10,retstep = True)\n",
    "array2"
   ]
  },
  {
   "cell_type": "code",
   "execution_count": 84,
   "id": "guided-sponsorship",
   "metadata": {},
   "outputs": [
    {
     "data": {
      "text/plain": [
       "(array([ 1.  ,  3.25,  5.5 ,  7.75, 10.  ]), 2.25)"
      ]
     },
     "execution_count": 84,
     "metadata": {},
     "output_type": "execute_result"
    }
   ],
   "source": [
    "array2 = np.linspace(1,10, num = 5,retstep = True)\n",
    "array2"
   ]
  },
  {
   "cell_type": "code",
   "execution_count": 85,
   "id": "compressed-sequence",
   "metadata": {},
   "outputs": [
    {
     "data": {
      "text/plain": [
       "(array([ 1.        ,  3.57894737,  6.15789474,  8.73684211, 11.31578947,\n",
       "        13.89473684, 16.47368421, 19.05263158, 21.63157895, 24.21052632,\n",
       "        26.78947368, 29.36842105, 31.94736842, 34.52631579, 37.10526316,\n",
       "        39.68421053, 42.26315789, 44.84210526, 47.42105263, 50.        ]),\n",
       " 2.5789473684210527)"
      ]
     },
     "execution_count": 85,
     "metadata": {},
     "output_type": "execute_result"
    }
   ],
   "source": [
    "array2 = np.linspace(1,50, num = 20,retstep = True)\n",
    "array2"
   ]
  },
  {
   "cell_type": "code",
   "execution_count": 86,
   "id": "exact-little",
   "metadata": {},
   "outputs": [
    {
     "data": {
      "text/plain": [
       "2.5789473684210527"
      ]
     },
     "execution_count": 86,
     "metadata": {},
     "output_type": "execute_result"
    }
   ],
   "source": [
    "49/19"
   ]
  },
  {
   "cell_type": "code",
   "execution_count": 68,
   "id": "empirical-person",
   "metadata": {},
   "outputs": [
    {
     "data": {
      "text/plain": [
       "(array([100.        , 121.05263158, 142.10526316, 163.15789474,\n",
       "        184.21052632, 205.26315789, 226.31578947, 247.36842105,\n",
       "        268.42105263, 289.47368421, 310.52631579, 331.57894737,\n",
       "        352.63157895, 373.68421053, 394.73684211, 415.78947368,\n",
       "        436.84210526, 457.89473684, 478.94736842, 500.        ]),\n",
       " 21.05263157894737)"
      ]
     },
     "execution_count": 68,
     "metadata": {},
     "output_type": "execute_result"
    }
   ],
   "source": [
    "array2 = np.linspace(100,500, num = 20,retstep = True)\n",
    "array2"
   ]
  },
  {
   "cell_type": "code",
   "execution_count": 69,
   "id": "printable-architecture",
   "metadata": {},
   "outputs": [
    {
     "data": {
      "text/plain": [
       "(array([  1.        ,  27.26315789,  53.52631579,  79.78947368,\n",
       "        106.05263158, 132.31578947, 158.57894737, 184.84210526,\n",
       "        211.10526316, 237.36842105, 263.63157895, 289.89473684,\n",
       "        316.15789474, 342.42105263, 368.68421053, 394.94736842,\n",
       "        421.21052632, 447.47368421, 473.73684211, 500.        ]),\n",
       " 26.263157894736842)"
      ]
     },
     "execution_count": 69,
     "metadata": {},
     "output_type": "execute_result"
    }
   ],
   "source": [
    "array2 = np.linspace(1,500, num = 20,retstep = True)\n",
    "array2"
   ]
  },
  {
   "cell_type": "code",
   "execution_count": 71,
   "id": "buried-illness",
   "metadata": {},
   "outputs": [
    {
     "name": "stdout",
     "output_type": "stream",
     "text": [
      "{'zeros': array([0., 0., 0., 0., 0., 0., 0., 0., 0., 0.]), 'Ones': array([1., 1., 1., 1., 1., 1., 1., 1., 1., 1.]), 'Arange': array([10, 11, 12, 13, 14, 15, 16, 17, 18, 19]), 'LinSpace': array([100.        , 111.11111111, 122.22222222, 133.33333333,\n",
      "       144.44444444, 155.55555556, 166.66666667, 177.77777778,\n",
      "       188.88888889, 200.        ])}\n"
     ]
    }
   ],
   "source": [
    "dict1 = {'zeros':np.zeros(10),\n",
    "        'Ones':np.ones(10),\n",
    "        'Arange':np.arange(10,20),\n",
    "        \"LinSpace\":np.linspace(100,200,num = 10)}\n",
    "print(dict1)"
   ]
  },
  {
   "cell_type": "code",
   "execution_count": 74,
   "id": "allied-bacon",
   "metadata": {},
   "outputs": [
    {
     "data": {
      "text/html": [
       "<div>\n",
       "<style scoped>\n",
       "    .dataframe tbody tr th:only-of-type {\n",
       "        vertical-align: middle;\n",
       "    }\n",
       "\n",
       "    .dataframe tbody tr th {\n",
       "        vertical-align: top;\n",
       "    }\n",
       "\n",
       "    .dataframe thead th {\n",
       "        text-align: right;\n",
       "    }\n",
       "</style>\n",
       "<table border=\"1\" class=\"dataframe\">\n",
       "  <thead>\n",
       "    <tr style=\"text-align: right;\">\n",
       "      <th></th>\n",
       "      <th>zeros</th>\n",
       "      <th>Ones</th>\n",
       "      <th>Arange</th>\n",
       "      <th>LinSpace</th>\n",
       "    </tr>\n",
       "  </thead>\n",
       "  <tbody>\n",
       "    <tr>\n",
       "      <th>0</th>\n",
       "      <td>0.0</td>\n",
       "      <td>1.0</td>\n",
       "      <td>10</td>\n",
       "      <td>100.000000</td>\n",
       "    </tr>\n",
       "    <tr>\n",
       "      <th>1</th>\n",
       "      <td>0.0</td>\n",
       "      <td>1.0</td>\n",
       "      <td>11</td>\n",
       "      <td>111.111111</td>\n",
       "    </tr>\n",
       "    <tr>\n",
       "      <th>2</th>\n",
       "      <td>0.0</td>\n",
       "      <td>1.0</td>\n",
       "      <td>12</td>\n",
       "      <td>122.222222</td>\n",
       "    </tr>\n",
       "    <tr>\n",
       "      <th>3</th>\n",
       "      <td>0.0</td>\n",
       "      <td>1.0</td>\n",
       "      <td>13</td>\n",
       "      <td>133.333333</td>\n",
       "    </tr>\n",
       "    <tr>\n",
       "      <th>4</th>\n",
       "      <td>0.0</td>\n",
       "      <td>1.0</td>\n",
       "      <td>14</td>\n",
       "      <td>144.444444</td>\n",
       "    </tr>\n",
       "    <tr>\n",
       "      <th>5</th>\n",
       "      <td>0.0</td>\n",
       "      <td>1.0</td>\n",
       "      <td>15</td>\n",
       "      <td>155.555556</td>\n",
       "    </tr>\n",
       "    <tr>\n",
       "      <th>6</th>\n",
       "      <td>0.0</td>\n",
       "      <td>1.0</td>\n",
       "      <td>16</td>\n",
       "      <td>166.666667</td>\n",
       "    </tr>\n",
       "    <tr>\n",
       "      <th>7</th>\n",
       "      <td>0.0</td>\n",
       "      <td>1.0</td>\n",
       "      <td>17</td>\n",
       "      <td>177.777778</td>\n",
       "    </tr>\n",
       "    <tr>\n",
       "      <th>8</th>\n",
       "      <td>0.0</td>\n",
       "      <td>1.0</td>\n",
       "      <td>18</td>\n",
       "      <td>188.888889</td>\n",
       "    </tr>\n",
       "    <tr>\n",
       "      <th>9</th>\n",
       "      <td>0.0</td>\n",
       "      <td>1.0</td>\n",
       "      <td>19</td>\n",
       "      <td>200.000000</td>\n",
       "    </tr>\n",
       "  </tbody>\n",
       "</table>\n",
       "</div>"
      ],
      "text/plain": [
       "   zeros  Ones  Arange    LinSpace\n",
       "0    0.0   1.0      10  100.000000\n",
       "1    0.0   1.0      11  111.111111\n",
       "2    0.0   1.0      12  122.222222\n",
       "3    0.0   1.0      13  133.333333\n",
       "4    0.0   1.0      14  144.444444\n",
       "5    0.0   1.0      15  155.555556\n",
       "6    0.0   1.0      16  166.666667\n",
       "7    0.0   1.0      17  177.777778\n",
       "8    0.0   1.0      18  188.888889\n",
       "9    0.0   1.0      19  200.000000"
      ]
     },
     "execution_count": 74,
     "metadata": {},
     "output_type": "execute_result"
    }
   ],
   "source": [
    "df = pd.DataFrame(dict1)\n",
    "df"
   ]
  },
  {
   "cell_type": "code",
   "execution_count": 87,
   "id": "green-fence",
   "metadata": {},
   "outputs": [
    {
     "data": {
      "text/html": [
       "<div>\n",
       "<style scoped>\n",
       "    .dataframe tbody tr th:only-of-type {\n",
       "        vertical-align: middle;\n",
       "    }\n",
       "\n",
       "    .dataframe tbody tr th {\n",
       "        vertical-align: top;\n",
       "    }\n",
       "\n",
       "    .dataframe thead th {\n",
       "        text-align: right;\n",
       "    }\n",
       "</style>\n",
       "<table border=\"1\" class=\"dataframe\">\n",
       "  <thead>\n",
       "    <tr style=\"text-align: right;\">\n",
       "      <th></th>\n",
       "      <th>zeros</th>\n",
       "      <th>Ones</th>\n",
       "      <th>Arange</th>\n",
       "      <th>LinSpace</th>\n",
       "      <th>List1</th>\n",
       "    </tr>\n",
       "  </thead>\n",
       "  <tbody>\n",
       "    <tr>\n",
       "      <th>0</th>\n",
       "      <td>0.0</td>\n",
       "      <td>1.0</td>\n",
       "      <td>10</td>\n",
       "      <td>100.000000</td>\n",
       "      <td>2.0</td>\n",
       "    </tr>\n",
       "    <tr>\n",
       "      <th>1</th>\n",
       "      <td>0.0</td>\n",
       "      <td>1.0</td>\n",
       "      <td>11</td>\n",
       "      <td>111.111111</td>\n",
       "      <td>3.0</td>\n",
       "    </tr>\n",
       "    <tr>\n",
       "      <th>2</th>\n",
       "      <td>0.0</td>\n",
       "      <td>1.0</td>\n",
       "      <td>12</td>\n",
       "      <td>122.222222</td>\n",
       "      <td>4.0</td>\n",
       "    </tr>\n",
       "    <tr>\n",
       "      <th>3</th>\n",
       "      <td>0.0</td>\n",
       "      <td>1.0</td>\n",
       "      <td>13</td>\n",
       "      <td>133.333333</td>\n",
       "      <td>5.0</td>\n",
       "    </tr>\n",
       "    <tr>\n",
       "      <th>4</th>\n",
       "      <td>0.0</td>\n",
       "      <td>1.0</td>\n",
       "      <td>14</td>\n",
       "      <td>144.444444</td>\n",
       "      <td>6.0</td>\n",
       "    </tr>\n",
       "    <tr>\n",
       "      <th>5</th>\n",
       "      <td>0.0</td>\n",
       "      <td>1.0</td>\n",
       "      <td>15</td>\n",
       "      <td>155.555556</td>\n",
       "      <td>NaN</td>\n",
       "    </tr>\n",
       "    <tr>\n",
       "      <th>6</th>\n",
       "      <td>0.0</td>\n",
       "      <td>1.0</td>\n",
       "      <td>16</td>\n",
       "      <td>166.666667</td>\n",
       "      <td>2.0</td>\n",
       "    </tr>\n",
       "    <tr>\n",
       "      <th>7</th>\n",
       "      <td>0.0</td>\n",
       "      <td>1.0</td>\n",
       "      <td>17</td>\n",
       "      <td>177.777778</td>\n",
       "      <td>3.0</td>\n",
       "    </tr>\n",
       "    <tr>\n",
       "      <th>8</th>\n",
       "      <td>0.0</td>\n",
       "      <td>1.0</td>\n",
       "      <td>18</td>\n",
       "      <td>188.888889</td>\n",
       "      <td>4.0</td>\n",
       "    </tr>\n",
       "    <tr>\n",
       "      <th>9</th>\n",
       "      <td>0.0</td>\n",
       "      <td>1.0</td>\n",
       "      <td>19</td>\n",
       "      <td>200.000000</td>\n",
       "      <td>5.0</td>\n",
       "    </tr>\n",
       "  </tbody>\n",
       "</table>\n",
       "</div>"
      ],
      "text/plain": [
       "   zeros  Ones  Arange    LinSpace  List1\n",
       "0    0.0   1.0      10  100.000000    2.0\n",
       "1    0.0   1.0      11  111.111111    3.0\n",
       "2    0.0   1.0      12  122.222222    4.0\n",
       "3    0.0   1.0      13  133.333333    5.0\n",
       "4    0.0   1.0      14  144.444444    6.0\n",
       "5    0.0   1.0      15  155.555556    NaN\n",
       "6    0.0   1.0      16  166.666667    2.0\n",
       "7    0.0   1.0      17  177.777778    3.0\n",
       "8    0.0   1.0      18  188.888889    4.0\n",
       "9    0.0   1.0      19  200.000000    5.0"
      ]
     },
     "execution_count": 87,
     "metadata": {},
     "output_type": "execute_result"
    }
   ],
   "source": [
    "df['List1'] = [2,3,4,5,6,np.nan,2,3,4,5]\n",
    "df"
   ]
  },
  {
   "cell_type": "markdown",
   "id": "fuzzy-syntax",
   "metadata": {},
   "source": [
    "# 6. eye"
   ]
  },
  {
   "cell_type": "raw",
   "id": "robust-sarah",
   "metadata": {},
   "source": [
    "It will return 2D array with ones on diagonal and zeros elsewhere"
   ]
  },
  {
   "cell_type": "code",
   "execution_count": 89,
   "id": "posted-detroit",
   "metadata": {},
   "outputs": [
    {
     "data": {
      "text/plain": [
       "array([[1, 0, 0],\n",
       "       [0, 1, 0],\n",
       "       [0, 0, 1]])"
      ]
     },
     "execution_count": 89,
     "metadata": {},
     "output_type": "execute_result"
    }
   ],
   "source": [
    "np.eye(3,dtype = 'int')"
   ]
  },
  {
   "cell_type": "code",
   "execution_count": 91,
   "id": "lesser-incentive",
   "metadata": {},
   "outputs": [
    {
     "data": {
      "text/plain": [
       "array([[1, 0, 0, 0, 0],\n",
       "       [0, 1, 0, 0, 0],\n",
       "       [0, 0, 1, 0, 0],\n",
       "       [0, 0, 0, 1, 0],\n",
       "       [0, 0, 0, 0, 1]])"
      ]
     },
     "execution_count": 91,
     "metadata": {},
     "output_type": "execute_result"
    }
   ],
   "source": [
    "np.eye(5,dtype = 'int')  # Identity Matrix"
   ]
  },
  {
   "cell_type": "code",
   "execution_count": 93,
   "id": "incorporated-reference",
   "metadata": {},
   "outputs": [
    {
     "data": {
      "text/plain": [
       "array([[1, 0, 0, 0],\n",
       "       [0, 1, 0, 0],\n",
       "       [0, 0, 1, 0]])"
      ]
     },
     "execution_count": 93,
     "metadata": {},
     "output_type": "execute_result"
    }
   ],
   "source": [
    "np.eye(3,4,dtype = 'int')"
   ]
  },
  {
   "cell_type": "code",
   "execution_count": 95,
   "id": "increased-dover",
   "metadata": {},
   "outputs": [
    {
     "data": {
      "text/plain": [
       "array([[1, 0, 0, 0, 0, 0, 0, 0, 0, 0],\n",
       "       [0, 1, 0, 0, 0, 0, 0, 0, 0, 0],\n",
       "       [0, 0, 1, 0, 0, 0, 0, 0, 0, 0]])"
      ]
     },
     "execution_count": 95,
     "metadata": {},
     "output_type": "execute_result"
    }
   ],
   "source": [
    "np.eye(3,10,dtype = 'int')"
   ]
  },
  {
   "cell_type": "markdown",
   "id": "narrow-mapping",
   "metadata": {},
   "source": [
    "# 7. Identity()"
   ]
  },
  {
   "cell_type": "code",
   "execution_count": 97,
   "id": "elementary-speaking",
   "metadata": {},
   "outputs": [
    {
     "data": {
      "text/plain": [
       "array([[1, 0, 0],\n",
       "       [0, 1, 0],\n",
       "       [0, 0, 1]])"
      ]
     },
     "execution_count": 97,
     "metadata": {},
     "output_type": "execute_result"
    }
   ],
   "source": [
    "np.identity(3,dtype = 'int')"
   ]
  },
  {
   "cell_type": "code",
   "execution_count": 100,
   "id": "induced-overview",
   "metadata": {},
   "outputs": [
    {
     "data": {
      "text/plain": [
       "array([[1, 0, 0, 0],\n",
       "       [0, 1, 0, 0],\n",
       "       [0, 0, 1, 0],\n",
       "       [0, 0, 0, 1]])"
      ]
     },
     "execution_count": 100,
     "metadata": {},
     "output_type": "execute_result"
    }
   ],
   "source": [
    "np.identity(4,dtype = 'int')"
   ]
  },
  {
   "cell_type": "code",
   "execution_count": 102,
   "id": "addressed-spotlight",
   "metadata": {},
   "outputs": [
    {
     "data": {
      "text/plain": [
       "array([[1, 0, 0, 0],\n",
       "       [0, 1, 0, 0],\n",
       "       [0, 0, 1, 0],\n",
       "       [0, 0, 0, 1]])"
      ]
     },
     "execution_count": 102,
     "metadata": {},
     "output_type": "execute_result"
    }
   ],
   "source": [
    "np.eye(4,dtype = 'int')"
   ]
  },
  {
   "cell_type": "markdown",
   "id": "ideal-mathematics",
   "metadata": {},
   "source": [
    "# 8. random()"
   ]
  },
  {
   "cell_type": "code",
   "execution_count": null,
   "id": "golden-worth",
   "metadata": {},
   "outputs": [],
   "source": [
    "Used for generating random numbers\n",
    "1. rand()\n",
    "2. randint()\n",
    "3. randn()\n",
    "4. randf()"
   ]
  },
  {
   "cell_type": "markdown",
   "id": "magnetic-couple",
   "metadata": {},
   "source": [
    "## 8.1 random.rand()"
   ]
  },
  {
   "cell_type": "raw",
   "id": "neither-duration",
   "metadata": {},
   "source": [
    "Return values between 0 to 1 interval"
   ]
  },
  {
   "cell_type": "code",
   "execution_count": 104,
   "id": "dense-thursday",
   "metadata": {},
   "outputs": [
    {
     "data": {
      "text/plain": [
       "array([0.3526005 , 0.10299015, 0.89112894, 0.73509703, 0.80664128])"
      ]
     },
     "execution_count": 104,
     "metadata": {},
     "output_type": "execute_result"
    }
   ],
   "source": [
    "arr1 = np.random.rand(5)\n",
    "arr1"
   ]
  },
  {
   "cell_type": "code",
   "execution_count": 114,
   "id": "generous-wealth",
   "metadata": {},
   "outputs": [
    {
     "data": {
      "text/plain": [
       "array([0.57707453, 0.26041674, 0.85307086, 0.12325736, 0.58029799,\n",
       "       0.03025585, 0.22337377, 0.35379858, 0.15640777, 0.39646609])"
      ]
     },
     "execution_count": 114,
     "metadata": {},
     "output_type": "execute_result"
    }
   ],
   "source": [
    "arr1 = np.random.rand(10)\n",
    "arr1"
   ]
  },
  {
   "cell_type": "code",
   "execution_count": 116,
   "id": "finished-courage",
   "metadata": {},
   "outputs": [
    {
     "data": {
      "text/plain": [
       "array([[0.45312982, 0.33991502, 0.8008794 , 0.75053189, 0.43113924],\n",
       "       [0.469681  , 0.89906   , 0.77081947, 0.55638148, 0.54567417],\n",
       "       [0.48539954, 0.09464577, 0.19854768, 0.81397063, 0.5357663 ],\n",
       "       [0.99636983, 0.22966705, 0.19839446, 0.26814142, 0.81118775]])"
      ]
     },
     "execution_count": 116,
     "metadata": {},
     "output_type": "execute_result"
    }
   ],
   "source": [
    "arr1 = np.random.rand(4,5)\n",
    "arr1"
   ]
  },
  {
   "cell_type": "code",
   "execution_count": 118,
   "id": "ahead-mauritius",
   "metadata": {},
   "outputs": [
    {
     "data": {
      "text/plain": [
       "array([[0.95575172, 0.08853534, 0.33659815],\n",
       "       [0.8612003 , 0.0419216 , 0.55526711]])"
      ]
     },
     "execution_count": 118,
     "metadata": {},
     "output_type": "execute_result"
    }
   ],
   "source": [
    "arr1 = np.random.rand(2,3)\n",
    "arr1"
   ]
  },
  {
   "cell_type": "markdown",
   "id": "industrial-result",
   "metadata": {},
   "source": [
    "## 8.2 random.randint()"
   ]
  },
  {
   "cell_type": "code",
   "execution_count": 122,
   "id": "valued-hardwood",
   "metadata": {},
   "outputs": [
    {
     "data": {
      "text/plain": [
       "array([ 2,  4,  3,  1, 12, 18,  6,  7, 17, 16, 13,  8,  7, 14, 15, 12,  4,\n",
       "        1,  5, 17])"
      ]
     },
     "execution_count": 122,
     "metadata": {},
     "output_type": "execute_result"
    }
   ],
   "source": [
    "arr = np.random.randint(1,20,size = 20)\n",
    "arr"
   ]
  },
  {
   "cell_type": "code",
   "execution_count": 124,
   "id": "present-civilian",
   "metadata": {},
   "outputs": [
    {
     "data": {
      "text/plain": [
       "array([ 1, 17,  1, 10, 19, 12, 10, 10, 13, 12])"
      ]
     },
     "execution_count": 124,
     "metadata": {},
     "output_type": "execute_result"
    }
   ],
   "source": [
    "arr = np.random.randint(1,20,size = 10)\n",
    "arr"
   ]
  },
  {
   "cell_type": "code",
   "execution_count": 134,
   "id": "duplicate-logic",
   "metadata": {},
   "outputs": [
    {
     "data": {
      "text/plain": [
       "array([17, 87, 37, 14, 89, 88, 20, 39, 69, 52])"
      ]
     },
     "execution_count": 134,
     "metadata": {},
     "output_type": "execute_result"
    }
   ],
   "source": [
    "arr = np.random.randint(10,100,size = 10)\n",
    "arr"
   ]
  },
  {
   "cell_type": "code",
   "execution_count": 137,
   "id": "unexpected-transportation",
   "metadata": {},
   "outputs": [
    {
     "data": {
      "text/plain": [
       "array([10, 25, 59, 53, 39, 88, 19, 27, 92, 97])"
      ]
     },
     "execution_count": 137,
     "metadata": {},
     "output_type": "execute_result"
    }
   ],
   "source": [
    "arr = np.random.randint(0,100,size = 10)\n",
    "arr"
   ]
  },
  {
   "cell_type": "code",
   "execution_count": 144,
   "id": "tracked-valve",
   "metadata": {},
   "outputs": [
    {
     "data": {
      "text/plain": [
       "array([12, 79, 92, 21, 63, 11, 19, 64, 54, 48, 64, 48, 29, 84, 86, 12,  3,\n",
       "       51, 14, 21])"
      ]
     },
     "execution_count": 144,
     "metadata": {},
     "output_type": "execute_result"
    }
   ],
   "source": [
    "arr = np.random.randint(0,100,size = 20)\n",
    "arr"
   ]
  },
  {
   "cell_type": "code",
   "execution_count": 149,
   "id": "sufficient-sewing",
   "metadata": {},
   "outputs": [
    {
     "data": {
      "text/plain": [
       "array([[114, 176, 159, 184, 179],\n",
       "       [132, 107, 125, 141, 175],\n",
       "       [100, 104, 115, 163, 140],\n",
       "       [191, 177, 119, 171, 179]])"
      ]
     },
     "execution_count": 149,
     "metadata": {},
     "output_type": "execute_result"
    }
   ],
   "source": [
    "arr = np.random.randint(100,200,size = 20)\n",
    "arr.reshape(4,5)"
   ]
  },
  {
   "cell_type": "code",
   "execution_count": null,
   "id": "joint-passage",
   "metadata": {},
   "outputs": [],
   "source": []
  },
  {
   "cell_type": "markdown",
   "id": "laden-migration",
   "metadata": {},
   "source": [
    "## 8.4 random.randn"
   ]
  },
  {
   "cell_type": "raw",
   "id": "adjustable-murray",
   "metadata": {},
   "source": [
    "Return Normally distributed values\n"
   ]
  },
  {
   "cell_type": "code",
   "execution_count": 151,
   "id": "chicken-shoulder",
   "metadata": {},
   "outputs": [
    {
     "data": {
      "text/plain": [
       "array([-0.04372591,  0.25961092,  1.15749813,  0.41984125,  0.54671544])"
      ]
     },
     "execution_count": 151,
     "metadata": {},
     "output_type": "execute_result"
    }
   ],
   "source": [
    "arr = np.random.randn(5)\n",
    "arr"
   ]
  },
  {
   "cell_type": "code",
   "execution_count": 157,
   "id": "lucky-freight",
   "metadata": {},
   "outputs": [
    {
     "data": {
      "text/plain": [
       "array([ 0.27788767,  0.10299908,  0.0399048 , -1.36724277, -0.2183563 ,\n",
       "       -0.09484913])"
      ]
     },
     "execution_count": 157,
     "metadata": {},
     "output_type": "execute_result"
    }
   ],
   "source": [
    "arr = np.random.randn(6)\n",
    "arr"
   ]
  },
  {
   "cell_type": "markdown",
   "id": "retired-comment",
   "metadata": {},
   "source": [
    "## 8.5 random.ranf()"
   ]
  },
  {
   "cell_type": "raw",
   "id": "accompanied-column",
   "metadata": {},
   "source": [
    "Values between 0.0 to 1.0 interval"
   ]
  },
  {
   "cell_type": "code",
   "execution_count": 163,
   "id": "challenging-airline",
   "metadata": {},
   "outputs": [
    {
     "data": {
      "text/plain": [
       "array([0.02684291, 0.90733577, 0.74560569, 0.90272884])"
      ]
     },
     "execution_count": 163,
     "metadata": {},
     "output_type": "execute_result"
    }
   ],
   "source": [
    "arr = np.random.ranf((4,))\n",
    "arr"
   ]
  },
  {
   "cell_type": "code",
   "execution_count": 164,
   "id": "informative-minnesota",
   "metadata": {},
   "outputs": [
    {
     "data": {
      "text/plain": [
       "array([0.87686171, 0.24558749, 0.27366021, 0.231759  , 0.98871953])"
      ]
     },
     "execution_count": 164,
     "metadata": {},
     "output_type": "execute_result"
    }
   ],
   "source": [
    "arr = np.random.ranf((5,))\n",
    "arr"
   ]
  },
  {
   "cell_type": "code",
   "execution_count": 166,
   "id": "suited-giving",
   "metadata": {},
   "outputs": [],
   "source": [
    "# randint\n",
    "# linspace\n",
    "# arange"
   ]
  },
  {
   "cell_type": "markdown",
   "id": "atmospheric-deficit",
   "metadata": {},
   "source": [
    "# 9. sort"
   ]
  },
  {
   "cell_type": "code",
   "execution_count": 167,
   "id": "streaming-nepal",
   "metadata": {},
   "outputs": [
    {
     "data": {
      "text/plain": [
       "array([25, 12, 15, 18, 34, 22, 10, 25, 28, 31])"
      ]
     },
     "execution_count": 167,
     "metadata": {},
     "output_type": "execute_result"
    }
   ],
   "source": [
    "arr = np.random.randint(10,40,size = 10)\n",
    "arr"
   ]
  },
  {
   "cell_type": "code",
   "execution_count": 169,
   "id": "legendary-tuition",
   "metadata": {},
   "outputs": [
    {
     "data": {
      "text/plain": [
       "array([10, 12, 15, 18, 22, 25, 25, 28, 31, 34])"
      ]
     },
     "execution_count": 169,
     "metadata": {},
     "output_type": "execute_result"
    }
   ],
   "source": [
    "np.sort(arr)"
   ]
  },
  {
   "cell_type": "code",
   "execution_count": null,
   "id": "military-planner",
   "metadata": {},
   "outputs": [],
   "source": [
    "# Axis = 0  >> Rows\n",
    "# Axis = 1  >> Column"
   ]
  },
  {
   "cell_type": "code",
   "execution_count": 174,
   "id": "written-compact",
   "metadata": {},
   "outputs": [
    {
     "name": "stdout",
     "output_type": "stream",
     "text": [
      "{'zeros': array([0., 0., 0., 0., 0., 0., 0., 0., 0., 0.]), 'Ones': array([1., 1., 1., 1., 1., 1., 1., 1., 1., 1.]), 'Arange': array([10, 11, 12, 13, 14, 15, 16, 17, 18, 19]), 'LinSpace': array([100.        , 111.11111111, 122.22222222, 133.33333333,\n",
      "       144.44444444, 155.55555556, 166.66666667, 177.77777778,\n",
      "       188.88888889, 200.        ]), 'RandInt': array([23, 31, 18, 34, 21, 16, 15, 23, 23, 35]), 'RandNormal': array([-0.32496639, -0.01820217, -2.92672803,  1.3471082 ,  1.92020756,\n",
      "       -1.78399696, -1.49410367, -0.47312967,  1.38503787,  0.5733818 ])}\n"
     ]
    }
   ],
   "source": [
    "dict1 = {'zeros':np.zeros(10),\n",
    "        'Ones':np.ones(10),\n",
    "        'Arange':np.arange(10,20),\n",
    "        \"LinSpace\":np.linspace(100,200,num = 10),\n",
    "        \"RandInt\":np.random.randint(10,40,size = 10),\n",
    "        'RandNormal':np.random.randn(10)}\n",
    "print(dict1)"
   ]
  },
  {
   "cell_type": "code",
   "execution_count": 176,
   "id": "united-scale",
   "metadata": {},
   "outputs": [
    {
     "data": {
      "text/html": [
       "<div>\n",
       "<style scoped>\n",
       "    .dataframe tbody tr th:only-of-type {\n",
       "        vertical-align: middle;\n",
       "    }\n",
       "\n",
       "    .dataframe tbody tr th {\n",
       "        vertical-align: top;\n",
       "    }\n",
       "\n",
       "    .dataframe thead th {\n",
       "        text-align: right;\n",
       "    }\n",
       "</style>\n",
       "<table border=\"1\" class=\"dataframe\">\n",
       "  <thead>\n",
       "    <tr style=\"text-align: right;\">\n",
       "      <th></th>\n",
       "      <th>zeros</th>\n",
       "      <th>Ones</th>\n",
       "      <th>Arange</th>\n",
       "      <th>LinSpace</th>\n",
       "      <th>RandInt</th>\n",
       "      <th>RandNormal</th>\n",
       "    </tr>\n",
       "  </thead>\n",
       "  <tbody>\n",
       "    <tr>\n",
       "      <th>0</th>\n",
       "      <td>0.0</td>\n",
       "      <td>1.0</td>\n",
       "      <td>10</td>\n",
       "      <td>100.000000</td>\n",
       "      <td>23</td>\n",
       "      <td>-0.324966</td>\n",
       "    </tr>\n",
       "    <tr>\n",
       "      <th>1</th>\n",
       "      <td>0.0</td>\n",
       "      <td>1.0</td>\n",
       "      <td>11</td>\n",
       "      <td>111.111111</td>\n",
       "      <td>31</td>\n",
       "      <td>-0.018202</td>\n",
       "    </tr>\n",
       "    <tr>\n",
       "      <th>2</th>\n",
       "      <td>0.0</td>\n",
       "      <td>1.0</td>\n",
       "      <td>12</td>\n",
       "      <td>122.222222</td>\n",
       "      <td>18</td>\n",
       "      <td>-2.926728</td>\n",
       "    </tr>\n",
       "    <tr>\n",
       "      <th>3</th>\n",
       "      <td>0.0</td>\n",
       "      <td>1.0</td>\n",
       "      <td>13</td>\n",
       "      <td>133.333333</td>\n",
       "      <td>34</td>\n",
       "      <td>1.347108</td>\n",
       "    </tr>\n",
       "    <tr>\n",
       "      <th>4</th>\n",
       "      <td>0.0</td>\n",
       "      <td>1.0</td>\n",
       "      <td>14</td>\n",
       "      <td>144.444444</td>\n",
       "      <td>21</td>\n",
       "      <td>1.920208</td>\n",
       "    </tr>\n",
       "    <tr>\n",
       "      <th>5</th>\n",
       "      <td>0.0</td>\n",
       "      <td>1.0</td>\n",
       "      <td>15</td>\n",
       "      <td>155.555556</td>\n",
       "      <td>16</td>\n",
       "      <td>-1.783997</td>\n",
       "    </tr>\n",
       "    <tr>\n",
       "      <th>6</th>\n",
       "      <td>0.0</td>\n",
       "      <td>1.0</td>\n",
       "      <td>16</td>\n",
       "      <td>166.666667</td>\n",
       "      <td>15</td>\n",
       "      <td>-1.494104</td>\n",
       "    </tr>\n",
       "    <tr>\n",
       "      <th>7</th>\n",
       "      <td>0.0</td>\n",
       "      <td>1.0</td>\n",
       "      <td>17</td>\n",
       "      <td>177.777778</td>\n",
       "      <td>23</td>\n",
       "      <td>-0.473130</td>\n",
       "    </tr>\n",
       "    <tr>\n",
       "      <th>8</th>\n",
       "      <td>0.0</td>\n",
       "      <td>1.0</td>\n",
       "      <td>18</td>\n",
       "      <td>188.888889</td>\n",
       "      <td>23</td>\n",
       "      <td>1.385038</td>\n",
       "    </tr>\n",
       "    <tr>\n",
       "      <th>9</th>\n",
       "      <td>0.0</td>\n",
       "      <td>1.0</td>\n",
       "      <td>19</td>\n",
       "      <td>200.000000</td>\n",
       "      <td>35</td>\n",
       "      <td>0.573382</td>\n",
       "    </tr>\n",
       "  </tbody>\n",
       "</table>\n",
       "</div>"
      ],
      "text/plain": [
       "   zeros  Ones  Arange    LinSpace  RandInt  RandNormal\n",
       "0    0.0   1.0      10  100.000000       23   -0.324966\n",
       "1    0.0   1.0      11  111.111111       31   -0.018202\n",
       "2    0.0   1.0      12  122.222222       18   -2.926728\n",
       "3    0.0   1.0      13  133.333333       34    1.347108\n",
       "4    0.0   1.0      14  144.444444       21    1.920208\n",
       "5    0.0   1.0      15  155.555556       16   -1.783997\n",
       "6    0.0   1.0      16  166.666667       15   -1.494104\n",
       "7    0.0   1.0      17  177.777778       23   -0.473130\n",
       "8    0.0   1.0      18  188.888889       23    1.385038\n",
       "9    0.0   1.0      19  200.000000       35    0.573382"
      ]
     },
     "execution_count": 176,
     "metadata": {},
     "output_type": "execute_result"
    }
   ],
   "source": [
    "df = pd.DataFrame(dict1)\n",
    "df"
   ]
  },
  {
   "cell_type": "code",
   "execution_count": 181,
   "id": "center-nelson",
   "metadata": {},
   "outputs": [
    {
     "data": {
      "text/html": [
       "<div>\n",
       "<style scoped>\n",
       "    .dataframe tbody tr th:only-of-type {\n",
       "        vertical-align: middle;\n",
       "    }\n",
       "\n",
       "    .dataframe tbody tr th {\n",
       "        vertical-align: top;\n",
       "    }\n",
       "\n",
       "    .dataframe thead th {\n",
       "        text-align: right;\n",
       "    }\n",
       "</style>\n",
       "<table border=\"1\" class=\"dataframe\">\n",
       "  <thead>\n",
       "    <tr style=\"text-align: right;\">\n",
       "      <th></th>\n",
       "      <th>zeros</th>\n",
       "      <th>Ones</th>\n",
       "      <th>Arange</th>\n",
       "      <th>LinSpace</th>\n",
       "      <th>RandInt</th>\n",
       "      <th>RandNormal</th>\n",
       "    </tr>\n",
       "  </thead>\n",
       "  <tbody>\n",
       "    <tr>\n",
       "      <th>6</th>\n",
       "      <td>0.0</td>\n",
       "      <td>1.0</td>\n",
       "      <td>16</td>\n",
       "      <td>166.666667</td>\n",
       "      <td>15</td>\n",
       "      <td>-1.494104</td>\n",
       "    </tr>\n",
       "    <tr>\n",
       "      <th>5</th>\n",
       "      <td>0.0</td>\n",
       "      <td>1.0</td>\n",
       "      <td>15</td>\n",
       "      <td>155.555556</td>\n",
       "      <td>16</td>\n",
       "      <td>-1.783997</td>\n",
       "    </tr>\n",
       "    <tr>\n",
       "      <th>2</th>\n",
       "      <td>0.0</td>\n",
       "      <td>1.0</td>\n",
       "      <td>12</td>\n",
       "      <td>122.222222</td>\n",
       "      <td>18</td>\n",
       "      <td>-2.926728</td>\n",
       "    </tr>\n",
       "    <tr>\n",
       "      <th>4</th>\n",
       "      <td>0.0</td>\n",
       "      <td>1.0</td>\n",
       "      <td>14</td>\n",
       "      <td>144.444444</td>\n",
       "      <td>21</td>\n",
       "      <td>1.920208</td>\n",
       "    </tr>\n",
       "    <tr>\n",
       "      <th>7</th>\n",
       "      <td>0.0</td>\n",
       "      <td>1.0</td>\n",
       "      <td>17</td>\n",
       "      <td>177.777778</td>\n",
       "      <td>23</td>\n",
       "      <td>-0.473130</td>\n",
       "    </tr>\n",
       "    <tr>\n",
       "      <th>0</th>\n",
       "      <td>0.0</td>\n",
       "      <td>1.0</td>\n",
       "      <td>10</td>\n",
       "      <td>100.000000</td>\n",
       "      <td>23</td>\n",
       "      <td>-0.324966</td>\n",
       "    </tr>\n",
       "    <tr>\n",
       "      <th>8</th>\n",
       "      <td>0.0</td>\n",
       "      <td>1.0</td>\n",
       "      <td>18</td>\n",
       "      <td>188.888889</td>\n",
       "      <td>23</td>\n",
       "      <td>1.385038</td>\n",
       "    </tr>\n",
       "    <tr>\n",
       "      <th>1</th>\n",
       "      <td>0.0</td>\n",
       "      <td>1.0</td>\n",
       "      <td>11</td>\n",
       "      <td>111.111111</td>\n",
       "      <td>31</td>\n",
       "      <td>-0.018202</td>\n",
       "    </tr>\n",
       "    <tr>\n",
       "      <th>3</th>\n",
       "      <td>0.0</td>\n",
       "      <td>1.0</td>\n",
       "      <td>13</td>\n",
       "      <td>133.333333</td>\n",
       "      <td>34</td>\n",
       "      <td>1.347108</td>\n",
       "    </tr>\n",
       "    <tr>\n",
       "      <th>9</th>\n",
       "      <td>0.0</td>\n",
       "      <td>1.0</td>\n",
       "      <td>19</td>\n",
       "      <td>200.000000</td>\n",
       "      <td>35</td>\n",
       "      <td>0.573382</td>\n",
       "    </tr>\n",
       "  </tbody>\n",
       "</table>\n",
       "</div>"
      ],
      "text/plain": [
       "   zeros  Ones  Arange    LinSpace  RandInt  RandNormal\n",
       "6    0.0   1.0      16  166.666667       15   -1.494104\n",
       "5    0.0   1.0      15  155.555556       16   -1.783997\n",
       "2    0.0   1.0      12  122.222222       18   -2.926728\n",
       "4    0.0   1.0      14  144.444444       21    1.920208\n",
       "7    0.0   1.0      17  177.777778       23   -0.473130\n",
       "0    0.0   1.0      10  100.000000       23   -0.324966\n",
       "8    0.0   1.0      18  188.888889       23    1.385038\n",
       "1    0.0   1.0      11  111.111111       31   -0.018202\n",
       "3    0.0   1.0      13  133.333333       34    1.347108\n",
       "9    0.0   1.0      19  200.000000       35    0.573382"
      ]
     },
     "execution_count": 181,
     "metadata": {},
     "output_type": "execute_result"
    }
   ],
   "source": [
    "df.sort_values(['RandInt','RandNormal'])"
   ]
  },
  {
   "cell_type": "code",
   "execution_count": 180,
   "id": "adapted-element",
   "metadata": {},
   "outputs": [
    {
     "data": {
      "text/html": [
       "<div>\n",
       "<style scoped>\n",
       "    .dataframe tbody tr th:only-of-type {\n",
       "        vertical-align: middle;\n",
       "    }\n",
       "\n",
       "    .dataframe tbody tr th {\n",
       "        vertical-align: top;\n",
       "    }\n",
       "\n",
       "    .dataframe thead th {\n",
       "        text-align: right;\n",
       "    }\n",
       "</style>\n",
       "<table border=\"1\" class=\"dataframe\">\n",
       "  <thead>\n",
       "    <tr style=\"text-align: right;\">\n",
       "      <th></th>\n",
       "      <th>Arange</th>\n",
       "      <th>LinSpace</th>\n",
       "      <th>Ones</th>\n",
       "      <th>RandInt</th>\n",
       "      <th>RandNormal</th>\n",
       "      <th>zeros</th>\n",
       "    </tr>\n",
       "  </thead>\n",
       "  <tbody>\n",
       "    <tr>\n",
       "      <th>0</th>\n",
       "      <td>10</td>\n",
       "      <td>100.000000</td>\n",
       "      <td>1.0</td>\n",
       "      <td>23</td>\n",
       "      <td>-0.324966</td>\n",
       "      <td>0.0</td>\n",
       "    </tr>\n",
       "    <tr>\n",
       "      <th>1</th>\n",
       "      <td>11</td>\n",
       "      <td>111.111111</td>\n",
       "      <td>1.0</td>\n",
       "      <td>31</td>\n",
       "      <td>-0.018202</td>\n",
       "      <td>0.0</td>\n",
       "    </tr>\n",
       "    <tr>\n",
       "      <th>2</th>\n",
       "      <td>12</td>\n",
       "      <td>122.222222</td>\n",
       "      <td>1.0</td>\n",
       "      <td>18</td>\n",
       "      <td>-2.926728</td>\n",
       "      <td>0.0</td>\n",
       "    </tr>\n",
       "    <tr>\n",
       "      <th>3</th>\n",
       "      <td>13</td>\n",
       "      <td>133.333333</td>\n",
       "      <td>1.0</td>\n",
       "      <td>34</td>\n",
       "      <td>1.347108</td>\n",
       "      <td>0.0</td>\n",
       "    </tr>\n",
       "    <tr>\n",
       "      <th>4</th>\n",
       "      <td>14</td>\n",
       "      <td>144.444444</td>\n",
       "      <td>1.0</td>\n",
       "      <td>21</td>\n",
       "      <td>1.920208</td>\n",
       "      <td>0.0</td>\n",
       "    </tr>\n",
       "    <tr>\n",
       "      <th>5</th>\n",
       "      <td>15</td>\n",
       "      <td>155.555556</td>\n",
       "      <td>1.0</td>\n",
       "      <td>16</td>\n",
       "      <td>-1.783997</td>\n",
       "      <td>0.0</td>\n",
       "    </tr>\n",
       "    <tr>\n",
       "      <th>6</th>\n",
       "      <td>16</td>\n",
       "      <td>166.666667</td>\n",
       "      <td>1.0</td>\n",
       "      <td>15</td>\n",
       "      <td>-1.494104</td>\n",
       "      <td>0.0</td>\n",
       "    </tr>\n",
       "    <tr>\n",
       "      <th>7</th>\n",
       "      <td>17</td>\n",
       "      <td>177.777778</td>\n",
       "      <td>1.0</td>\n",
       "      <td>23</td>\n",
       "      <td>-0.473130</td>\n",
       "      <td>0.0</td>\n",
       "    </tr>\n",
       "    <tr>\n",
       "      <th>8</th>\n",
       "      <td>18</td>\n",
       "      <td>188.888889</td>\n",
       "      <td>1.0</td>\n",
       "      <td>23</td>\n",
       "      <td>1.385038</td>\n",
       "      <td>0.0</td>\n",
       "    </tr>\n",
       "    <tr>\n",
       "      <th>9</th>\n",
       "      <td>19</td>\n",
       "      <td>200.000000</td>\n",
       "      <td>1.0</td>\n",
       "      <td>35</td>\n",
       "      <td>0.573382</td>\n",
       "      <td>0.0</td>\n",
       "    </tr>\n",
       "  </tbody>\n",
       "</table>\n",
       "</div>"
      ],
      "text/plain": [
       "   Arange    LinSpace  Ones  RandInt  RandNormal  zeros\n",
       "0      10  100.000000   1.0       23   -0.324966    0.0\n",
       "1      11  111.111111   1.0       31   -0.018202    0.0\n",
       "2      12  122.222222   1.0       18   -2.926728    0.0\n",
       "3      13  133.333333   1.0       34    1.347108    0.0\n",
       "4      14  144.444444   1.0       21    1.920208    0.0\n",
       "5      15  155.555556   1.0       16   -1.783997    0.0\n",
       "6      16  166.666667   1.0       15   -1.494104    0.0\n",
       "7      17  177.777778   1.0       23   -0.473130    0.0\n",
       "8      18  188.888889   1.0       23    1.385038    0.0\n",
       "9      19  200.000000   1.0       35    0.573382    0.0"
      ]
     },
     "execution_count": 180,
     "metadata": {},
     "output_type": "execute_result"
    }
   ],
   "source": [
    "df.sort_index(axis = 1)"
   ]
  },
  {
   "cell_type": "code",
   "execution_count": null,
   "id": "administrative-adobe",
   "metadata": {},
   "outputs": [],
   "source": []
  }
 ],
 "metadata": {
  "kernelspec": {
   "display_name": "Python 3",
   "language": "python",
   "name": "python3"
  },
  "language_info": {
   "codemirror_mode": {
    "name": "ipython",
    "version": 3
   },
   "file_extension": ".py",
   "mimetype": "text/x-python",
   "name": "python",
   "nbconvert_exporter": "python",
   "pygments_lexer": "ipython3",
   "version": "3.8.7"
  }
 },
 "nbformat": 4,
 "nbformat_minor": 5
}

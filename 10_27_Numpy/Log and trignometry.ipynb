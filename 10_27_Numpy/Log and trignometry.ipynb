{
 "cells": [
  {
   "cell_type": "markdown",
   "id": "experienced-carol",
   "metadata": {},
   "source": [
    "# Log "
   ]
  },
  {
   "cell_type": "code",
   "execution_count": 1,
   "id": "exposed-production",
   "metadata": {},
   "outputs": [],
   "source": [
    "import numpy as np"
   ]
  },
  {
   "cell_type": "code",
   "execution_count": null,
   "id": "described-composite",
   "metadata": {},
   "outputs": [],
   "source": [
    "mode >>\n",
    "mean >>\n",
    "median >> "
   ]
  },
  {
   "cell_type": "code",
   "execution_count": 5,
   "id": "beautiful-demand",
   "metadata": {},
   "outputs": [
    {
     "data": {
      "text/plain": [
       "33.333333333333336"
      ]
     },
     "execution_count": 5,
     "metadata": {},
     "output_type": "execute_result"
    }
   ],
   "source": [
    "age = np.array([20,30,40,50,25,35])\n",
    "np.mean(age)"
   ]
  },
  {
   "cell_type": "code",
   "execution_count": 9,
   "id": "administrative-eating",
   "metadata": {},
   "outputs": [
    {
     "data": {
      "text/plain": [
       "37.5"
      ]
     },
     "execution_count": 9,
     "metadata": {},
     "output_type": "execute_result"
    }
   ],
   "source": [
    "age = np.array([20,300,40,50,25,35]) # 300 is outlier\n",
    "np.median(age)"
   ]
  },
  {
   "cell_type": "code",
   "execution_count": null,
   "id": "integrated-preview",
   "metadata": {},
   "outputs": [],
   "source": [
    "# categorical (mode)\n",
    "male\n",
    "female\n",
    "male\n",
    "male \n",
    "NaN  >> male\n",
    "female"
   ]
  },
  {
   "cell_type": "code",
   "execution_count": null,
   "id": "hollywood-provincial",
   "metadata": {},
   "outputs": [],
   "source": [
    "# variance >> distribution of data"
   ]
  },
  {
   "cell_type": "code",
   "execution_count": 10,
   "id": "approved-formula",
   "metadata": {},
   "outputs": [],
   "source": [
    "# ((X - Xmean)^2)/N\n",
    "\n",
    "# 20,30,40,50,25,35"
   ]
  },
  {
   "cell_type": "markdown",
   "id": "adolescent-globe",
   "metadata": {},
   "source": [
    "# Log Function"
   ]
  },
  {
   "cell_type": "code",
   "execution_count": 12,
   "id": "choice-stockholm",
   "metadata": {},
   "outputs": [
    {
     "data": {
      "text/plain": [
       "2.302585092994046"
      ]
     },
     "execution_count": 12,
     "metadata": {},
     "output_type": "execute_result"
    }
   ],
   "source": [
    "np.log(10)"
   ]
  },
  {
   "cell_type": "code",
   "execution_count": 14,
   "id": "hired-passage",
   "metadata": {},
   "outputs": [
    {
     "data": {
      "text/plain": [
       "0.0"
      ]
     },
     "execution_count": 14,
     "metadata": {},
     "output_type": "execute_result"
    }
   ],
   "source": [
    "np.log(1)"
   ]
  },
  {
   "cell_type": "code",
   "execution_count": 16,
   "id": "palestinian-motor",
   "metadata": {},
   "outputs": [
    {
     "data": {
      "text/plain": [
       "-1.6094379124341003"
      ]
     },
     "execution_count": 16,
     "metadata": {},
     "output_type": "execute_result"
    }
   ],
   "source": [
    "np.log(0.2)"
   ]
  },
  {
   "cell_type": "code",
   "execution_count": 18,
   "id": "typical-geology",
   "metadata": {},
   "outputs": [
    {
     "data": {
      "text/plain": [
       "-0.2231435513142097"
      ]
     },
     "execution_count": 18,
     "metadata": {},
     "output_type": "execute_result"
    }
   ],
   "source": [
    "np.log(0.8)  # Natural log >> ln(0.8)"
   ]
  },
  {
   "cell_type": "code",
   "execution_count": 28,
   "id": "secret-match",
   "metadata": {},
   "outputs": [
    {
     "data": {
      "text/plain": [
       "2.302585092994046"
      ]
     },
     "execution_count": 28,
     "metadata": {},
     "output_type": "execute_result"
    }
   ],
   "source": [
    "np.log(10)"
   ]
  },
  {
   "cell_type": "code",
   "execution_count": 29,
   "id": "hearing-scottish",
   "metadata": {},
   "outputs": [
    {
     "data": {
      "text/plain": [
       "1.0"
      ]
     },
     "execution_count": 29,
     "metadata": {},
     "output_type": "execute_result"
    }
   ],
   "source": [
    "np.log10(10)"
   ]
  },
  {
   "cell_type": "code",
   "execution_count": 30,
   "id": "loved-stereo",
   "metadata": {},
   "outputs": [
    {
     "data": {
      "text/plain": [
       "3.321928094887362"
      ]
     },
     "execution_count": 30,
     "metadata": {},
     "output_type": "execute_result"
    }
   ],
   "source": [
    "np.log2(10)"
   ]
  },
  {
   "cell_type": "code",
   "execution_count": 26,
   "id": "revised-honolulu",
   "metadata": {},
   "outputs": [
    {
     "data": {
      "text/plain": [
       "array([3.32192809, 1.        , 1.5849625 , 2.        , 6.64385619,\n",
       "       2.32192809, 2.5849625 ])"
      ]
     },
     "execution_count": 26,
     "metadata": {},
     "output_type": "execute_result"
    }
   ],
   "source": [
    "np.log2([10,2,3,4,100,5,6])"
   ]
  },
  {
   "cell_type": "code",
   "execution_count": 27,
   "id": "nuclear-stomach",
   "metadata": {},
   "outputs": [
    {
     "data": {
      "text/plain": [
       "array([2.56494936, 1.38629436, 1.60943791, 0.        , 1.94591015,\n",
       "       2.07944154, 2.19722458, 4.60517019, 6.39692966])"
      ]
     },
     "execution_count": 27,
     "metadata": {},
     "output_type": "execute_result"
    }
   ],
   "source": [
    "np.log([13,4,5,1,7,8,9,100,600])  # Log Transformation"
   ]
  },
  {
   "cell_type": "markdown",
   "id": "systematic-workstation",
   "metadata": {},
   "source": [
    "# Trignometry"
   ]
  },
  {
   "cell_type": "code",
   "execution_count": null,
   "id": "atmospheric-aquatic",
   "metadata": {},
   "outputs": [],
   "source": [
    "sin >> opp/hyp\n",
    "cos >> adj/hyp\n",
    "tan >> opp/adj\n",
    "cosec >> 1/sin\n",
    "sec >> 1/cos\n",
    "cot >> 1/tan\n",
    "\n"
   ]
  },
  {
   "cell_type": "code",
   "execution_count": null,
   "id": "numerous-compensation",
   "metadata": {},
   "outputs": [],
   "source": [
    "sin(30) >> 1/2 >> 0.5\n",
    "sin(45) >> 1/\n",
    "\n",
    "Pi >> 180"
   ]
  },
  {
   "cell_type": "code",
   "execution_count": 32,
   "id": "presidential-quilt",
   "metadata": {},
   "outputs": [],
   "source": [
    "# np.pi"
   ]
  },
  {
   "cell_type": "code",
   "execution_count": 34,
   "id": "directed-contribution",
   "metadata": {},
   "outputs": [
    {
     "data": {
      "text/plain": [
       "0.49999999999999994"
      ]
     },
     "execution_count": 34,
     "metadata": {},
     "output_type": "execute_result"
    }
   ],
   "source": [
    "np.sin(np.pi / 6)  # 180/6"
   ]
  },
  {
   "cell_type": "code",
   "execution_count": 36,
   "id": "unsigned-rally",
   "metadata": {},
   "outputs": [
    {
     "data": {
      "text/plain": [
       "0.7071067811865476"
      ]
     },
     "execution_count": 36,
     "metadata": {},
     "output_type": "execute_result"
    }
   ],
   "source": [
    "np.sin(np.pi / 4)  # 180/4"
   ]
  },
  {
   "cell_type": "code",
   "execution_count": 38,
   "id": "democratic-darwin",
   "metadata": {},
   "outputs": [
    {
     "data": {
      "text/plain": [
       "1.0"
      ]
     },
     "execution_count": 38,
     "metadata": {},
     "output_type": "execute_result"
    }
   ],
   "source": [
    "np.sin(np.pi / 2)  # 180/4"
   ]
  },
  {
   "cell_type": "code",
   "execution_count": 40,
   "id": "improving-oregon",
   "metadata": {},
   "outputs": [
    {
     "data": {
      "text/plain": [
       "0.7071067811865476"
      ]
     },
     "execution_count": 40,
     "metadata": {},
     "output_type": "execute_result"
    }
   ],
   "source": [
    "np.cos(np.pi /4 )  # 180/4"
   ]
  },
  {
   "cell_type": "code",
   "execution_count": 42,
   "id": "charming-description",
   "metadata": {},
   "outputs": [
    {
     "data": {
      "text/plain": [
       "0.5773502691896257"
      ]
     },
     "execution_count": 42,
     "metadata": {},
     "output_type": "execute_result"
    }
   ],
   "source": [
    "np.tan(np.pi/6)  # tan(30)"
   ]
  },
  {
   "cell_type": "markdown",
   "id": "rational-mercy",
   "metadata": {},
   "source": [
    "# degree to radian"
   ]
  },
  {
   "cell_type": "code",
   "execution_count": 44,
   "id": "valued-counter",
   "metadata": {},
   "outputs": [
    {
     "data": {
      "text/plain": [
       "array([0.        , 0.52359878, 0.78539816, 1.04719755, 1.57079633])"
      ]
     },
     "execution_count": 44,
     "metadata": {},
     "output_type": "execute_result"
    }
   ],
   "source": [
    "arr = np.array([0,30,45,60,90])\n",
    "radian = np.deg2rad(arr)\n",
    "radian"
   ]
  },
  {
   "cell_type": "code",
   "execution_count": 46,
   "id": "institutional-ecuador",
   "metadata": {},
   "outputs": [
    {
     "data": {
      "text/plain": [
       "0.4994813555186418"
      ]
     },
     "execution_count": 46,
     "metadata": {},
     "output_type": "execute_result"
    }
   ],
   "source": [
    "np.sin(0.523)"
   ]
  },
  {
   "cell_type": "code",
   "execution_count": 48,
   "id": "banner-physiology",
   "metadata": {},
   "outputs": [
    {
     "data": {
      "text/plain": [
       "0.5235987755982988"
      ]
     },
     "execution_count": 48,
     "metadata": {},
     "output_type": "execute_result"
    }
   ],
   "source": [
    "np.pi/6"
   ]
  },
  {
   "cell_type": "markdown",
   "id": "suburban-lease",
   "metadata": {},
   "source": [
    "# Radian to degree"
   ]
  },
  {
   "cell_type": "code",
   "execution_count": 49,
   "id": "cardiovascular-behalf",
   "metadata": {},
   "outputs": [
    {
     "data": {
      "text/plain": [
       "array([ 0.        , 30.00000025, 44.99999981, 59.99999993, 90.00000018])"
      ]
     },
     "execution_count": 49,
     "metadata": {},
     "output_type": "execute_result"
    }
   ],
   "source": [
    "radians = np.array([0.        , 0.52359878, 0.78539816, 1.04719755, 1.57079633])\n",
    "degree = np.rad2deg(radians)\n",
    "degree"
   ]
  }
 ],
 "metadata": {
  "kernelspec": {
   "display_name": "Python 3",
   "language": "python",
   "name": "python3"
  },
  "language_info": {
   "codemirror_mode": {
    "name": "ipython",
    "version": 3
   },
   "file_extension": ".py",
   "mimetype": "text/x-python",
   "name": "python",
   "nbconvert_exporter": "python",
   "pygments_lexer": "ipython3",
   "version": "3.8.7"
  }
 },
 "nbformat": 4,
 "nbformat_minor": 5
}

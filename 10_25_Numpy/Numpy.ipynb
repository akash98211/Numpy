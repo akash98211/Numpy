{
 "cells": [
  {
   "cell_type": "markdown",
   "metadata": {},
   "source": [
    "# NumPy"
   ]
  },
  {
   "cell_type": "raw",
   "metadata": {},
   "source": [
    "NumPy >> Numerical Python"
   ]
  },
  {
   "cell_type": "code",
   "execution_count": null,
   "metadata": {},
   "outputs": [],
   "source": [
    "Application :\n",
    "    1. Linear Algebra\n",
    "    2. Statistics(mean,median,std,var)\n",
    "    3. Probability\n",
    "    4. Image Processing\n",
    "    5. Trignometric (sin,cos,tan,etc)\n",
    "    6. Random Number generation\n",
    "    7. Logarithmic    "
   ]
  },
  {
   "cell_type": "code",
   "execution_count": null,
   "metadata": {},
   "outputs": [],
   "source": [
    "It is collection Homegeneous data types\n",
    "ndarray >> n dimensional array (0D,1D,2D,  nD)\n",
    "Numpy array are faster than list\n",
    "Numpy is written in Python, C , C++\n",
    "C is faster than Python Language\n",
    "Array can be created using list,tuple"
   ]
  },
  {
   "cell_type": "code",
   "execution_count": 2,
   "metadata": {},
   "outputs": [],
   "source": [
    "import numpy as np"
   ]
  },
  {
   "cell_type": "code",
   "execution_count": 6,
   "metadata": {},
   "outputs": [
    {
     "data": {
      "text/plain": [
       "numpy.ndarray"
      ]
     },
     "execution_count": 6,
     "metadata": {},
     "output_type": "execute_result"
    }
   ],
   "source": [
    "# np.array(list,tuple)\n",
    "\n",
    "arr1 = np.array([2,3,4,5,2]) # lsit\n",
    "arr1\n",
    "type(arr1)\n",
    "# ndarray "
   ]
  },
  {
   "cell_type": "code",
   "execution_count": 10,
   "metadata": {},
   "outputs": [
    {
     "data": {
      "text/plain": [
       "(array([5, 6, 7, 8]), numpy.ndarray)"
      ]
     },
     "execution_count": 10,
     "metadata": {},
     "output_type": "execute_result"
    }
   ],
   "source": [
    "\n",
    "arr1 = np.array((5,6,7,8)) # Tuple\n",
    "arr1, type(arr1)\n"
   ]
  },
  {
   "cell_type": "code",
   "execution_count": 12,
   "metadata": {},
   "outputs": [
    {
     "data": {
      "text/plain": [
       "array([3, 4, 5, 6, 7])"
      ]
     },
     "execution_count": 12,
     "metadata": {},
     "output_type": "execute_result"
    }
   ],
   "source": [
    "l1 = [3,4,5,6,7]\n",
    "array = np.array(l1)\n",
    "array"
   ]
  },
  {
   "cell_type": "code",
   "execution_count": 4,
   "metadata": {},
   "outputs": [
    {
     "data": {
      "text/plain": [
       "array([3. , 4. , 5.5, 6. , 7. ])"
      ]
     },
     "execution_count": 4,
     "metadata": {},
     "output_type": "execute_result"
    }
   ],
   "source": [
    "import numpy as np\n",
    "l1 = [3.0,4.0,5.5,6.0,7]\n",
    "array = np.array(l1)\n",
    "array"
   ]
  },
  {
   "cell_type": "code",
   "execution_count": 17,
   "metadata": {},
   "outputs": [
    {
     "data": {
      "text/plain": [
       "array([3. +0.j, 4. +0.j, 5. +0.j, 6. +0.j, 7.5+0.j, 4. +5.j])"
      ]
     },
     "execution_count": 17,
     "metadata": {},
     "output_type": "execute_result"
    }
   ],
   "source": [
    "l1 = [3,4,5,6,7.5, 4+5j]\n",
    "array = np.array(l1)\n",
    "array"
   ]
  },
  {
   "cell_type": "code",
   "execution_count": 15,
   "metadata": {},
   "outputs": [
    {
     "data": {
      "text/plain": [
       "array(['3', '4', '5', '6', 'a'], dtype='<U11')"
      ]
     },
     "execution_count": 15,
     "metadata": {},
     "output_type": "execute_result"
    }
   ],
   "source": [
    "l1 = [3,4,5,6,'a']\n",
    "array = np.array(l1)\n",
    "array"
   ]
  },
  {
   "cell_type": "markdown",
   "metadata": {},
   "source": [
    "# Change the data Type"
   ]
  },
  {
   "cell_type": "code",
   "execution_count": 21,
   "metadata": {},
   "outputs": [
    {
     "data": {
      "text/plain": [
       "array([3, 4, 5, 7])"
      ]
     },
     "execution_count": 21,
     "metadata": {},
     "output_type": "execute_result"
    }
   ],
   "source": [
    "array = np.array([3,4,5,7],dtype = 'int')\n",
    "array"
   ]
  },
  {
   "cell_type": "code",
   "execution_count": 24,
   "metadata": {},
   "outputs": [
    {
     "data": {
      "text/plain": [
       "array([3., 4., 5., 7.])"
      ]
     },
     "execution_count": 24,
     "metadata": {},
     "output_type": "execute_result"
    }
   ],
   "source": [
    "array = np.array([3,4,5,7],dtype = 'float')\n",
    "array"
   ]
  },
  {
   "cell_type": "code",
   "execution_count": 33,
   "metadata": {},
   "outputs": [
    {
     "data": {
      "text/plain": [
       "array([3.+0.j, 4.+0.j, 5.+0.j, 7.+0.j])"
      ]
     },
     "execution_count": 33,
     "metadata": {},
     "output_type": "execute_result"
    }
   ],
   "source": [
    "array = np.array([3,4,5,7],dtype = 'complex')\n",
    "array"
   ]
  },
  {
   "cell_type": "code",
   "execution_count": 35,
   "metadata": {},
   "outputs": [
    {
     "data": {
      "text/plain": [
       "array([3, 4, 5, 3])"
      ]
     },
     "execution_count": 35,
     "metadata": {},
     "output_type": "execute_result"
    }
   ],
   "source": [
    "array = np.array([3,4,5.6,3.7],dtype = 'int')\n",
    "array"
   ]
  },
  {
   "cell_type": "code",
   "execution_count": 5,
   "metadata": {},
   "outputs": [
    {
     "data": {
      "text/plain": [
       "3.0"
      ]
     },
     "execution_count": 5,
     "metadata": {},
     "output_type": "execute_result"
    }
   ],
   "source": [
    "3."
   ]
  },
  {
   "cell_type": "code",
   "execution_count": 28,
   "metadata": {},
   "outputs": [
    {
     "data": {
      "text/plain": [
       "array([3.+0.j, 4.+0.j, 5.+0.j, 7.+5.j])"
      ]
     },
     "execution_count": 28,
     "metadata": {},
     "output_type": "execute_result"
    }
   ],
   "source": [
    "array = np.array([3,4,5,7 + 5j],dtype = 'complex')\n",
    "array"
   ]
  },
  {
   "cell_type": "code",
   "execution_count": 30,
   "metadata": {},
   "outputs": [
    {
     "ename": "TypeError",
     "evalue": "can't convert complex to float",
     "output_type": "error",
     "traceback": [
      "\u001b[1;31m---------------------------------------------------------------------------\u001b[0m",
      "\u001b[1;31mTypeError\u001b[0m                                 Traceback (most recent call last)",
      "\u001b[1;32m<ipython-input-30-e791f2605b76>\u001b[0m in \u001b[0;36m<module>\u001b[1;34m\u001b[0m\n\u001b[1;32m----> 1\u001b[1;33m \u001b[0marray\u001b[0m \u001b[1;33m=\u001b[0m \u001b[0mnp\u001b[0m\u001b[1;33m.\u001b[0m\u001b[0marray\u001b[0m\u001b[1;33m(\u001b[0m\u001b[1;33m[\u001b[0m\u001b[1;36m3\u001b[0m\u001b[1;33m,\u001b[0m\u001b[1;36m4\u001b[0m\u001b[1;33m,\u001b[0m\u001b[1;36m5\u001b[0m\u001b[1;33m,\u001b[0m\u001b[1;36m7\u001b[0m \u001b[1;33m+\u001b[0m \u001b[1;36m5j\u001b[0m\u001b[1;33m]\u001b[0m\u001b[1;33m,\u001b[0m\u001b[0mdtype\u001b[0m \u001b[1;33m=\u001b[0m \u001b[1;34m'float'\u001b[0m\u001b[1;33m)\u001b[0m\u001b[1;33m\u001b[0m\u001b[1;33m\u001b[0m\u001b[0m\n\u001b[0m\u001b[0;32m      2\u001b[0m \u001b[0marray\u001b[0m\u001b[1;33m\u001b[0m\u001b[1;33m\u001b[0m\u001b[0m\n",
      "\u001b[1;31mTypeError\u001b[0m: can't convert complex to float"
     ]
    }
   ],
   "source": [
    "array = np.array([3,4,5,7 + 5j],dtype = 'float')\n",
    "array"
   ]
  },
  {
   "cell_type": "code",
   "execution_count": 36,
   "metadata": {},
   "outputs": [
    {
     "ename": "TypeError",
     "evalue": "can't convert complex to int",
     "output_type": "error",
     "traceback": [
      "\u001b[1;31m---------------------------------------------------------------------------\u001b[0m",
      "\u001b[1;31mTypeError\u001b[0m                                 Traceback (most recent call last)",
      "\u001b[1;32m<ipython-input-36-12ff0cdcd41c>\u001b[0m in \u001b[0;36m<module>\u001b[1;34m\u001b[0m\n\u001b[1;32m----> 1\u001b[1;33m \u001b[0marray\u001b[0m \u001b[1;33m=\u001b[0m \u001b[0mnp\u001b[0m\u001b[1;33m.\u001b[0m\u001b[0marray\u001b[0m\u001b[1;33m(\u001b[0m\u001b[1;33m[\u001b[0m\u001b[1;36m3\u001b[0m\u001b[1;33m,\u001b[0m\u001b[1;36m4\u001b[0m\u001b[1;33m,\u001b[0m\u001b[1;36m5\u001b[0m\u001b[1;33m,\u001b[0m\u001b[1;36m7\u001b[0m \u001b[1;33m+\u001b[0m \u001b[1;36m5j\u001b[0m\u001b[1;33m]\u001b[0m\u001b[1;33m,\u001b[0m\u001b[0mdtype\u001b[0m \u001b[1;33m=\u001b[0m \u001b[1;34m'int'\u001b[0m\u001b[1;33m)\u001b[0m\u001b[1;33m\u001b[0m\u001b[1;33m\u001b[0m\u001b[0m\n\u001b[0m\u001b[0;32m      2\u001b[0m \u001b[0marray\u001b[0m\u001b[1;33m\u001b[0m\u001b[1;33m\u001b[0m\u001b[0m\n",
      "\u001b[1;31mTypeError\u001b[0m: can't convert complex to int"
     ]
    }
   ],
   "source": [
    "array = np.array([3,4,5,7 + 5j],dtype = 'int')\n",
    "array"
   ]
  },
  {
   "cell_type": "code",
   "execution_count": 38,
   "metadata": {},
   "outputs": [
    {
     "data": {
      "text/plain": [
       "array([3, 4, 5, 7], dtype=object)"
      ]
     },
     "execution_count": 38,
     "metadata": {},
     "output_type": "execute_result"
    }
   ],
   "source": [
    "array = np.array([3,4,5,7 ],dtype = 'object')\n",
    "array"
   ]
  },
  {
   "cell_type": "raw",
   "metadata": {},
   "source": [
    "int >> float\n",
    "float >> int\n",
    "int >> complex\n",
    "float >> complex\n",
    "complex !!>> int\n",
    "complex !!>> float"
   ]
  },
  {
   "cell_type": "markdown",
   "metadata": {},
   "source": [
    "# Dimensions in array"
   ]
  },
  {
   "cell_type": "raw",
   "metadata": {},
   "source": [
    "array.ndim"
   ]
  },
  {
   "cell_type": "markdown",
   "metadata": {},
   "source": [
    "## 1. 0-D"
   ]
  },
  {
   "cell_type": "code",
   "execution_count": 42,
   "metadata": {},
   "outputs": [
    {
     "name": "stdout",
     "output_type": "stream",
     "text": [
      "Number of dimensions are :  0\n"
     ]
    }
   ],
   "source": [
    "arr0 = np.array(45)\n",
    "arr0.ndim\n",
    "print('Number of dimensions are : ',arr0.ndim)"
   ]
  },
  {
   "cell_type": "code",
   "execution_count": 44,
   "metadata": {},
   "outputs": [
    {
     "name": "stdout",
     "output_type": "stream",
     "text": [
      "Number of dimensions are :  0\n"
     ]
    }
   ],
   "source": [
    "arr0 = np.array(4.5)\n",
    "arr0.ndim\n",
    "print('Number of dimensions are : ',arr0.ndim)"
   ]
  },
  {
   "cell_type": "markdown",
   "metadata": {},
   "source": [
    "## 2. 1-D"
   ]
  },
  {
   "cell_type": "code",
   "execution_count": 47,
   "metadata": {},
   "outputs": [
    {
     "name": "stdout",
     "output_type": "stream",
     "text": [
      "Number of dimensions are :  1\n"
     ]
    }
   ],
   "source": [
    "arr1 = np.array([3,4,5,6])\n",
    "print('Number of dimensions are : ',arr1.ndim)"
   ]
  },
  {
   "cell_type": "code",
   "execution_count": 6,
   "metadata": {},
   "outputs": [
    {
     "name": "stdout",
     "output_type": "stream",
     "text": [
      "Number of dimensions are :  3\n"
     ]
    }
   ],
   "source": [
    "arr1 = np.array([[[3,4.5,6.7,10,20]]])\n",
    "print('Number of dimensions are : ',arr1.ndim)"
   ]
  },
  {
   "cell_type": "code",
   "execution_count": 50,
   "metadata": {},
   "outputs": [
    {
     "name": "stdout",
     "output_type": "stream",
     "text": [
      "Number of dimensions are :  1\n"
     ]
    }
   ],
   "source": [
    "arr1 = np.array([3])\n",
    "print('Number of dimensions are : ',arr1.ndim)"
   ]
  },
  {
   "cell_type": "code",
   "execution_count": 87,
   "metadata": {},
   "outputs": [
    {
     "name": "stdout",
     "output_type": "stream",
     "text": [
      "Array is : [3 5]\n",
      "Number of dimensions are :  1\n"
     ]
    }
   ],
   "source": [
    "arr1 = np.array([3,5])\n",
    "print('Array is :',arr1)\n",
    "print('Number of dimensions are : ',arr1.ndim)"
   ]
  },
  {
   "cell_type": "code",
   "execution_count": 89,
   "metadata": {},
   "outputs": [
    {
     "name": "stdout",
     "output_type": "stream",
     "text": [
      "Array is : [3 5 6]\n",
      "Number of dimensions are :  1\n",
      "Shape of an array is : (3,)\n"
     ]
    }
   ],
   "source": [
    "arr1 = np.array([3,5,6])\n",
    "print('Array is :',arr1)\n",
    "print('Number of dimensions are : ',arr1.ndim)\n",
    "print(\"Shape of an array is :\",arr1.shape)"
   ]
  },
  {
   "cell_type": "code",
   "execution_count": null,
   "metadata": {},
   "outputs": [],
   "source": []
  },
  {
   "cell_type": "markdown",
   "metadata": {},
   "source": [
    "## 3. 2-D array"
   ]
  },
  {
   "cell_type": "code",
   "execution_count": 90,
   "metadata": {},
   "outputs": [
    {
     "name": "stdout",
     "output_type": "stream",
     "text": [
      "Array is :\n",
      " [[2 3]\n",
      " [5 6]\n",
      " [7 8]]\n",
      "Number of dimensions are :  2\n",
      "Shape of an array is : (3, 2)\n"
     ]
    }
   ],
   "source": [
    "arr2 = np.array([[2,3],[5,6],[7,8]])\n",
    "print('Array is :\\n',arr2)\n",
    "print('Number of dimensions are : ',arr2.ndim)\n",
    "print(\"Shape of an array is :\",arr2.shape)\n",
    "# (3,2) >> 3 1D array and 2items in 1D"
   ]
  },
  {
   "cell_type": "code",
   "execution_count": 58,
   "metadata": {},
   "outputs": [
    {
     "name": "stdout",
     "output_type": "stream",
     "text": [
      "Array is :\n",
      " [[2 3]]\n",
      "Number of dimensions are :  2\n"
     ]
    }
   ],
   "source": [
    "arr2 = np.array([[2,3]])\n",
    "print('Array is :\\n',arr2)\n",
    "print('Number of dimensions are : ',arr2.ndim)"
   ]
  },
  {
   "cell_type": "code",
   "execution_count": 59,
   "metadata": {},
   "outputs": [
    {
     "name": "stdout",
     "output_type": "stream",
     "text": [
      "Array is :\n",
      " [[2 3]]\n",
      "Number of dimensions are :  2\n"
     ]
    }
   ],
   "source": [
    "arr2 = np.array([[2,3]])\n",
    "print('Array is :\\n',arr2)\n",
    "print('Number of dimensions are : ',arr2.ndim)"
   ]
  },
  {
   "cell_type": "code",
   "execution_count": 62,
   "metadata": {},
   "outputs": [
    {
     "name": "stdout",
     "output_type": "stream",
     "text": [
      "Array is :\n",
      " [[2 3]\n",
      " [4 5]]\n",
      "Number of dimensions are :  2\n"
     ]
    }
   ],
   "source": [
    "arr2 = np.array([[2,3],[4,5]])\n",
    "print('Array is :\\n',arr2)\n",
    "print('Number of dimensions are : ',arr2.ndim)"
   ]
  },
  {
   "cell_type": "code",
   "execution_count": 67,
   "metadata": {},
   "outputs": [
    {
     "name": "stdout",
     "output_type": "stream",
     "text": [
      "Array is :\n",
      " [[2 3]\n",
      " [4 5]]\n",
      "Number of dimensions are :  2\n"
     ]
    }
   ],
   "source": [
    "arr2 = np.array(([2,3],[4,5]))\n",
    "print('Array is :\\n',arr2)\n",
    "print('Number of dimensions are : ',arr2.ndim)"
   ]
  },
  {
   "cell_type": "code",
   "execution_count": 69,
   "metadata": {},
   "outputs": [
    {
     "name": "stdout",
     "output_type": "stream",
     "text": [
      "Array is :\n",
      " [2 3 4 5]\n",
      "Number of dimensions are :  1\n"
     ]
    }
   ],
   "source": [
    "arr2 = np.array(([2,3,4,5]))\n",
    "print('Array is :\\n',arr2)\n",
    "print('Number of dimensions are : ',arr2.ndim)"
   ]
  },
  {
   "cell_type": "code",
   "execution_count": 71,
   "metadata": {},
   "outputs": [
    {
     "data": {
      "text/plain": [
       "[2, 3, 4, 5]"
      ]
     },
     "execution_count": 71,
     "metadata": {},
     "output_type": "execute_result"
    }
   ],
   "source": [
    "([2,3,4,5])"
   ]
  },
  {
   "cell_type": "code",
   "execution_count": 83,
   "metadata": {},
   "outputs": [
    {
     "name": "stdout",
     "output_type": "stream",
     "text": [
      "Array is :\n",
      " [[2 3 4 5]]\n",
      "Number of dimensions are :  2\n"
     ]
    }
   ],
   "source": [
    "arr2 = np.array([[2,3,4,5]])\n",
    "print('Array is :\\n',arr2)\n",
    "print('Number of dimensions are : ',arr2.ndim)"
   ]
  },
  {
   "cell_type": "code",
   "execution_count": 84,
   "metadata": {},
   "outputs": [
    {
     "name": "stdout",
     "output_type": "stream",
     "text": [
      "Array is :\n",
      " [[2 3 4 5]]\n",
      "Number of dimensions are :  2\n"
     ]
    }
   ],
   "source": [
    "arr2 = np.array([[2,3,4,5]])  # Multiple 1 D array\n",
    "print('Array is :\\n',arr2)\n",
    "print('Number of dimensions are : ',arr2.ndim)"
   ]
  },
  {
   "cell_type": "code",
   "execution_count": 85,
   "metadata": {},
   "outputs": [
    {
     "name": "stdout",
     "output_type": "stream",
     "text": [
      "Array is :\n",
      " [[2 3 4 5]\n",
      " [2 3 4 5]\n",
      " [2 3 4 5]\n",
      " [2 3 4 5]]\n",
      "Number of dimensions are :  2\n"
     ]
    }
   ],
   "source": [
    "arr2 = np.array([[2,3,4,5],[2,3,4,5],[2,3,4,5],[2,3,4,5]])  # Multiple 1 D array\n",
    "print('Array is :\\n',arr2)\n",
    "print('Number of dimensions are : ',arr2.ndim)"
   ]
  },
  {
   "cell_type": "markdown",
   "metadata": {},
   "source": [
    "## 3-D array"
   ]
  },
  {
   "cell_type": "code",
   "execution_count": 73,
   "metadata": {},
   "outputs": [
    {
     "name": "stdout",
     "output_type": "stream",
     "text": [
      "Array is :\n",
      " [[[2 3 4 5]]]\n",
      "Number of dimensions are :  3\n"
     ]
    }
   ],
   "source": [
    "arr3 = np.array([[[2,3,4,5]]])\n",
    "print('Array is :\\n',arr3)\n",
    "print('Number of dimensions are : ',arr3.ndim)"
   ]
  },
  {
   "cell_type": "code",
   "execution_count": 91,
   "metadata": {},
   "outputs": [
    {
     "name": "stdout",
     "output_type": "stream",
     "text": [
      "Array is :\n",
      " [[[2 3]\n",
      "  [3 4]\n",
      "  [5 6]]]\n",
      "Number of dimensions are :  3\n",
      "Shape of an array is : (1, 3, 2)\n"
     ]
    }
   ],
   "source": [
    "arr3 = np.array([[[2,3],[3,4],[5,6]]])\n",
    "print('Array is :\\n',arr3)\n",
    "print('Number of dimensions are : ',arr3.ndim)\n",
    "print(\"Shape of an array is :\",arr3.shape)\n",
    "# (1,3,2)\n",
    "# 1 >> number of 2D\n",
    "# 3 >> Number of 1D \n",
    "# 2 >> Number of 0D"
   ]
  },
  {
   "cell_type": "code",
   "execution_count": 81,
   "metadata": {},
   "outputs": [],
   "source": [
    "l1 = [[[2,3],[3,4],[5,6]],[[20,3],[30,4],[50,6]],[[200,3],[300,4],[500,6]]]"
   ]
  },
  {
   "cell_type": "code",
   "execution_count": 92,
   "metadata": {},
   "outputs": [
    {
     "name": "stdout",
     "output_type": "stream",
     "text": [
      "Array is :\n",
      " [[[  2   3]\n",
      "  [  3   4]\n",
      "  [  5   6]]\n",
      "\n",
      " [[ 20   3]\n",
      "  [ 30   4]\n",
      "  [ 50   6]]\n",
      "\n",
      " [[200   3]\n",
      "  [300   4]\n",
      "  [500   6]]]\n",
      "Number of dimensions are :  3\n",
      "Shape of an array is : (3, 3, 2)\n"
     ]
    }
   ],
   "source": [
    "arr3 = np.array(l1)\n",
    "print('Array is :\\n',arr3)\n",
    "print('Number of dimensions are : ',arr3.ndim)\n",
    "print(\"Shape of an array is :\",arr3.shape)\n",
    "# (3,3,2)"
   ]
  },
  {
   "cell_type": "markdown",
   "metadata": {},
   "source": [
    "## 4-D Array"
   ]
  },
  {
   "cell_type": "code",
   "execution_count": 78,
   "metadata": {},
   "outputs": [
    {
     "name": "stdout",
     "output_type": "stream",
     "text": [
      "Array is :\n",
      " [[[[2 3]\n",
      "   [3 4]\n",
      "   [5 6]]]]\n",
      "Number of dimensions are :  4\n"
     ]
    }
   ],
   "source": [
    "arr4 = np.array([[[[2,3],[3,4],[5,6]]]])\n",
    "print('Array is :\\n',arr4)\n",
    "print('Number of dimensions are : ',arr4.ndim)"
   ]
  },
  {
   "cell_type": "raw",
   "metadata": {},
   "source": [
    "1D array >> 0-D\n",
    "2D  >> 1D\n",
    "3D  >> 2D\n",
    "4D  >> 3D"
   ]
  },
  {
   "cell_type": "code",
   "execution_count": null,
   "metadata": {},
   "outputs": [],
   "source": []
  },
  {
   "cell_type": "markdown",
   "metadata": {},
   "source": [
    "# Indexing and Slicing"
   ]
  },
  {
   "cell_type": "code",
   "execution_count": 94,
   "metadata": {},
   "outputs": [
    {
     "data": {
      "text/plain": [
       "4"
      ]
     },
     "execution_count": 94,
     "metadata": {},
     "output_type": "execute_result"
    }
   ],
   "source": [
    "arr1 = np.array([4,5,6,7,8])\n",
    "arr1[0]"
   ]
  },
  {
   "cell_type": "code",
   "execution_count": 96,
   "metadata": {},
   "outputs": [
    {
     "data": {
      "text/plain": [
       "6"
      ]
     },
     "execution_count": 96,
     "metadata": {},
     "output_type": "execute_result"
    }
   ],
   "source": [
    "arr1[2]"
   ]
  },
  {
   "cell_type": "code",
   "execution_count": 98,
   "metadata": {},
   "outputs": [
    {
     "data": {
      "text/plain": [
       "8"
      ]
     },
     "execution_count": 98,
     "metadata": {},
     "output_type": "execute_result"
    }
   ],
   "source": [
    "arr1[-1]"
   ]
  },
  {
   "cell_type": "code",
   "execution_count": 104,
   "metadata": {},
   "outputs": [
    {
     "data": {
      "text/plain": [
       "6"
      ]
     },
     "execution_count": 104,
     "metadata": {},
     "output_type": "execute_result"
    }
   ],
   "source": [
    "arr2 = np.array([[4,5,6],[7,8,10]])\n",
    "arr2[0][2]"
   ]
  },
  {
   "cell_type": "code",
   "execution_count": 107,
   "metadata": {},
   "outputs": [
    {
     "name": "stdout",
     "output_type": "stream",
     "text": [
      "[[ 4  5  6]\n",
      " [ 7  8 10]]\n"
     ]
    }
   ],
   "source": [
    "print(arr2)"
   ]
  },
  {
   "cell_type": "code",
   "execution_count": 108,
   "metadata": {},
   "outputs": [
    {
     "data": {
      "text/plain": [
       "5"
      ]
     },
     "execution_count": 108,
     "metadata": {},
     "output_type": "execute_result"
    }
   ],
   "source": [
    "arr2[0,1]"
   ]
  },
  {
   "cell_type": "code",
   "execution_count": 103,
   "metadata": {},
   "outputs": [
    {
     "data": {
      "text/plain": [
       "6"
      ]
     },
     "execution_count": 103,
     "metadata": {},
     "output_type": "execute_result"
    }
   ],
   "source": [
    "arr2[0,2]"
   ]
  },
  {
   "cell_type": "code",
   "execution_count": 109,
   "metadata": {},
   "outputs": [
    {
     "data": {
      "text/plain": [
       "7"
      ]
     },
     "execution_count": 109,
     "metadata": {},
     "output_type": "execute_result"
    }
   ],
   "source": [
    "arr2[1,0]"
   ]
  },
  {
   "cell_type": "code",
   "execution_count": 119,
   "metadata": {},
   "outputs": [
    {
     "data": {
      "text/plain": [
       "array([[[  2,   3],\n",
       "        [  3,   4],\n",
       "        [  5,   6]],\n",
       "\n",
       "       [[ 20,   3],\n",
       "        [ 30,   4],\n",
       "        [ 50,   6]],\n",
       "\n",
       "       [[200,   3],\n",
       "        [300,   4],\n",
       "        [500,   6]]])"
      ]
     },
     "execution_count": 119,
     "metadata": {},
     "output_type": "execute_result"
    }
   ],
   "source": [
    "arr3 = np.array(l1)\n",
    "arr3"
   ]
  },
  {
   "cell_type": "code",
   "execution_count": 120,
   "metadata": {},
   "outputs": [
    {
     "data": {
      "text/plain": [
       "3"
      ]
     },
     "execution_count": 120,
     "metadata": {},
     "output_type": "execute_result"
    }
   ],
   "source": [
    "arr3[1,0,1]"
   ]
  },
  {
   "cell_type": "code",
   "execution_count": 114,
   "metadata": {},
   "outputs": [
    {
     "data": {
      "text/plain": [
       "array([[200,   3],\n",
       "       [300,   4],\n",
       "       [500,   6]])"
      ]
     },
     "execution_count": 114,
     "metadata": {},
     "output_type": "execute_result"
    }
   ],
   "source": [
    "arr3[2]  # 2D array"
   ]
  },
  {
   "cell_type": "code",
   "execution_count": 117,
   "metadata": {},
   "outputs": [
    {
     "data": {
      "text/plain": [
       "300"
      ]
     },
     "execution_count": 117,
     "metadata": {},
     "output_type": "execute_result"
    }
   ],
   "source": [
    "arr3[2,1,0] "
   ]
  },
  {
   "cell_type": "code",
   "execution_count": 118,
   "metadata": {},
   "outputs": [
    {
     "data": {
      "text/plain": [
       "30"
      ]
     },
     "execution_count": 118,
     "metadata": {},
     "output_type": "execute_result"
    }
   ],
   "source": [
    "arr3[1,1,0] "
   ]
  },
  {
   "cell_type": "markdown",
   "metadata": {},
   "source": [
    "# Slicing"
   ]
  },
  {
   "cell_type": "code",
   "execution_count": 124,
   "metadata": {},
   "outputs": [
    {
     "data": {
      "text/plain": [
       "array([4, 5, 6])"
      ]
     },
     "execution_count": 124,
     "metadata": {},
     "output_type": "execute_result"
    }
   ],
   "source": [
    "arr1 = np.array([4,5,6,7,8])\n",
    "arr1[0:3]"
   ]
  },
  {
   "cell_type": "code",
   "execution_count": 126,
   "metadata": {},
   "outputs": [
    {
     "data": {
      "text/plain": [
       "array([5, 6])"
      ]
     },
     "execution_count": 126,
     "metadata": {},
     "output_type": "execute_result"
    }
   ],
   "source": [
    "arr1 = np.array([4,5,6,7,8])\n",
    "arr1[1:3]"
   ]
  },
  {
   "cell_type": "code",
   "execution_count": 129,
   "metadata": {},
   "outputs": [
    {
     "data": {
      "text/plain": [
       "array([4, 5, 6, 7, 8])"
      ]
     },
     "execution_count": 129,
     "metadata": {},
     "output_type": "execute_result"
    }
   ],
   "source": [
    "arr1 = np.array([4,5,6,7,8])\n",
    "arr1[::1]"
   ]
  },
  {
   "cell_type": "code",
   "execution_count": 131,
   "metadata": {},
   "outputs": [
    {
     "data": {
      "text/plain": [
       "array([8, 7, 6, 5, 4])"
      ]
     },
     "execution_count": 131,
     "metadata": {},
     "output_type": "execute_result"
    }
   ],
   "source": [
    "arr1 = np.array([4,5,6,7,8])\n",
    "arr1[::-1]"
   ]
  },
  {
   "cell_type": "code",
   "execution_count": 134,
   "metadata": {},
   "outputs": [
    {
     "data": {
      "text/plain": [
       "5"
      ]
     },
     "execution_count": 134,
     "metadata": {},
     "output_type": "execute_result"
    }
   ],
   "source": [
    "arr2 = np.array([[4,5,6],[7,8,9]])\n",
    "arr2[0,1]"
   ]
  },
  {
   "cell_type": "code",
   "execution_count": 136,
   "metadata": {},
   "outputs": [
    {
     "name": "stdout",
     "output_type": "stream",
     "text": [
      "[[4 5 6]\n",
      " [7 8 9]]\n"
     ]
    }
   ],
   "source": [
    "print(arr2)"
   ]
  },
  {
   "cell_type": "code",
   "execution_count": 138,
   "metadata": {},
   "outputs": [
    {
     "data": {
      "text/plain": [
       "array([[4, 5, 6],\n",
       "       [7, 8, 9]])"
      ]
     },
     "execution_count": 138,
     "metadata": {},
     "output_type": "execute_result"
    }
   ],
   "source": [
    "arr2[:,:]  # all rows and all columns"
   ]
  },
  {
   "cell_type": "code",
   "execution_count": 140,
   "metadata": {},
   "outputs": [
    {
     "data": {
      "text/plain": [
       "array([5, 8])"
      ]
     },
     "execution_count": 140,
     "metadata": {},
     "output_type": "execute_result"
    }
   ],
   "source": [
    "arr2[:,1]  # all rows and 1st column"
   ]
  },
  {
   "cell_type": "code",
   "execution_count": 143,
   "metadata": {},
   "outputs": [
    {
     "data": {
      "text/plain": [
       "array([7, 8, 9])"
      ]
     },
     "execution_count": 143,
     "metadata": {},
     "output_type": "execute_result"
    }
   ],
   "source": [
    "arr2[1,:] # first row and all column"
   ]
  },
  {
   "cell_type": "code",
   "execution_count": 145,
   "metadata": {},
   "outputs": [
    {
     "data": {
      "text/plain": [
       "array([7, 8])"
      ]
     },
     "execution_count": 145,
     "metadata": {},
     "output_type": "execute_result"
    }
   ],
   "source": [
    "arr2[1,:2] # first row and 0 and 1 columns"
   ]
  },
  {
   "cell_type": "code",
   "execution_count": 146,
   "metadata": {},
   "outputs": [
    {
     "data": {
      "text/plain": [
       "array([8, 9])"
      ]
     },
     "execution_count": 146,
     "metadata": {},
     "output_type": "execute_result"
    }
   ],
   "source": [
    "arr2[1,1:] # first row and 0 and 1 columns"
   ]
  },
  {
   "cell_type": "code",
   "execution_count": 152,
   "metadata": {},
   "outputs": [
    {
     "data": {
      "text/plain": [
       "array([[  4,   5,   6],\n",
       "       [  7,   8,   9],\n",
       "       [ 10,  20,  30],\n",
       "       [ 41,  51,  61],\n",
       "       [ 17,  18,  19],\n",
       "       [110, 120, 130]])"
      ]
     },
     "execution_count": 152,
     "metadata": {},
     "output_type": "execute_result"
    }
   ],
   "source": [
    "arr2 = np.array([[4,5,6],[7,8,9],[10,20,30],[41,51,61],[17,18,19],[110,120,130]])\n",
    "arr2[:,:]"
   ]
  },
  {
   "cell_type": "code",
   "execution_count": 153,
   "metadata": {},
   "outputs": [
    {
     "data": {
      "text/plain": [
       "array([[4, 5],\n",
       "       [7, 8]])"
      ]
     },
     "execution_count": 153,
     "metadata": {},
     "output_type": "execute_result"
    }
   ],
   "source": [
    "arr2[:2,:2]"
   ]
  },
  {
   "cell_type": "code",
   "execution_count": 151,
   "metadata": {},
   "outputs": [
    {
     "data": {
      "text/plain": [
       "array([[ 51,  61],\n",
       "       [ 18,  19],\n",
       "       [120, 130]])"
      ]
     },
     "execution_count": 151,
     "metadata": {},
     "output_type": "execute_result"
    }
   ],
   "source": [
    "arr2[3:,1:]"
   ]
  },
  {
   "cell_type": "code",
   "execution_count": 158,
   "metadata": {},
   "outputs": [
    {
     "data": {
      "text/plain": [
       "(6, 3)"
      ]
     },
     "execution_count": 158,
     "metadata": {},
     "output_type": "execute_result"
    }
   ],
   "source": [
    "arr2 = np.array([[4,5,6],[7,8,9],[10,20,30],[41,51,61],[17,18,19],[110,120,130]])\n",
    "arr2.shape"
   ]
  },
  {
   "cell_type": "markdown",
   "metadata": {},
   "source": [
    "#### slicing in 3D array"
   ]
  },
  {
   "cell_type": "code",
   "execution_count": 161,
   "metadata": {},
   "outputs": [
    {
     "data": {
      "text/plain": [
       "(2, 3, 3)"
      ]
     },
     "execution_count": 161,
     "metadata": {},
     "output_type": "execute_result"
    }
   ],
   "source": [
    "arr3 = np.array([[[4,5,6],[7,8,9],[10,20,30]],[[41,51,61],[17,18,19],[110,120,130]]])\n",
    "arr3.shape # (2,3,3)"
   ]
  },
  {
   "cell_type": "code",
   "execution_count": 172,
   "metadata": {},
   "outputs": [
    {
     "data": {
      "text/plain": [
       "array([[[  4,   5,   6],\n",
       "        [  7,   8,   9],\n",
       "        [ 10,  20,  30]],\n",
       "\n",
       "       [[ 41,  51,  61],\n",
       "        [ 17,  18,  19],\n",
       "        [110, 120, 130]]])"
      ]
     },
     "execution_count": 172,
     "metadata": {},
     "output_type": "execute_result"
    }
   ],
   "source": [
    "arr3"
   ]
  },
  {
   "cell_type": "code",
   "execution_count": 177,
   "metadata": {},
   "outputs": [
    {
     "data": {
      "text/plain": [
       "array([[[  7,   8],\n",
       "        [ 10,  20]],\n",
       "\n",
       "       [[ 17,  18],\n",
       "        [110, 120]]])"
      ]
     },
     "execution_count": 177,
     "metadata": {},
     "output_type": "execute_result"
    }
   ],
   "source": [
    "arr3[:,1:,:2]"
   ]
  },
  {
   "cell_type": "code",
   "execution_count": 170,
   "metadata": {},
   "outputs": [
    {
     "data": {
      "text/plain": [
       "array([8, 9])"
      ]
     },
     "execution_count": 170,
     "metadata": {},
     "output_type": "execute_result"
    }
   ],
   "source": [
    "arr3[0,1,1:]"
   ]
  },
  {
   "cell_type": "code",
   "execution_count": 171,
   "metadata": {},
   "outputs": [
    {
     "data": {
      "text/plain": [
       "array([[ 8,  9],\n",
       "       [20, 30]])"
      ]
     },
     "execution_count": 171,
     "metadata": {},
     "output_type": "execute_result"
    }
   ],
   "source": [
    "arr3[0,1:,1:]"
   ]
  },
  {
   "cell_type": "markdown",
   "metadata": {},
   "source": [
    "# Convert to n-D array"
   ]
  },
  {
   "cell_type": "code",
   "execution_count": 180,
   "metadata": {},
   "outputs": [
    {
     "data": {
      "text/plain": [
       "1"
      ]
     },
     "execution_count": 180,
     "metadata": {},
     "output_type": "execute_result"
    }
   ],
   "source": [
    "arr1 = np.array([3,4,5,6,7])\n",
    "arr1.ndim"
   ]
  },
  {
   "cell_type": "code",
   "execution_count": 182,
   "metadata": {},
   "outputs": [
    {
     "name": "stdout",
     "output_type": "stream",
     "text": [
      "Array is : [[3 4 5 6 7]]\n",
      "Number of dimensions are :  2\n"
     ]
    }
   ],
   "source": [
    "arr1 = np.array([3,4,5,6,7],ndmin = 2)\n",
    "print(\"Array is :\",arr1)\n",
    "print(\"Number of dimensions are : \",arr1.ndim)"
   ]
  },
  {
   "cell_type": "code",
   "execution_count": 184,
   "metadata": {},
   "outputs": [
    {
     "name": "stdout",
     "output_type": "stream",
     "text": [
      "Array is : [[[3 4 5 6 7]]]\n",
      "Number of dimensions are :  3\n"
     ]
    }
   ],
   "source": [
    "arr1 = np.array([3,4,5,6,7],ndmin = 3)\n",
    "print(\"Array is :\",arr1)\n",
    "print(\"Number of dimensions are : \",arr1.ndim)"
   ]
  },
  {
   "cell_type": "code",
   "execution_count": 186,
   "metadata": {},
   "outputs": [
    {
     "name": "stdout",
     "output_type": "stream",
     "text": [
      "Array is : [[[[3 4 5 6 7]]]]\n",
      "Number of dimensions are :  4\n"
     ]
    }
   ],
   "source": [
    "arr1 = np.array([3,4,5,6,7],ndmin = 4)\n",
    "print(\"Array is :\",arr1)\n",
    "print(\"Number of dimensions are : \",arr1.ndim)"
   ]
  },
  {
   "cell_type": "code",
   "execution_count": 188,
   "metadata": {},
   "outputs": [
    {
     "name": "stdout",
     "output_type": "stream",
     "text": [
      "Array is : [[[[3 4]\n",
      "   [5 6]]]]\n",
      "Number of dimensions are :  4\n"
     ]
    }
   ],
   "source": [
    "arr1 = np.array([[3,4],[5,6]],ndmin = 4)\n",
    "print(\"Array is :\",arr1)\n",
    "print(\"Number of dimensions are : \",arr1.ndim)"
   ]
  },
  {
   "cell_type": "code",
   "execution_count": 192,
   "metadata": {},
   "outputs": [
    {
     "name": "stdout",
     "output_type": "stream",
     "text": [
      "Array is :\n",
      " [[3 4]\n",
      " [5 6]]\n",
      "Number of dimensions are :  2\n"
     ]
    }
   ],
   "source": [
    "arr1 = np.array([[3,4],[5,6]],ndmin = 2)\n",
    "print(\"Array is :\\n\",arr1)\n",
    "print(\"Number of dimensions are : \",arr1.ndim)"
   ]
  },
  {
   "cell_type": "code",
   "execution_count": 193,
   "metadata": {},
   "outputs": [
    {
     "name": "stdout",
     "output_type": "stream",
     "text": [
      "Array is :\n",
      " [[3 4]\n",
      " [5 6]]\n",
      "Number of dimensions are :  2\n"
     ]
    }
   ],
   "source": [
    "arr1 = np.array([[3,4],[5,6]],ndmin = 1)\n",
    "print(\"Array is :\\n\",arr1)\n",
    "print(\"Number of dimensions are : \",arr1.ndim)"
   ]
  },
  {
   "cell_type": "markdown",
   "metadata": {},
   "source": [
    "# Reshape Function"
   ]
  },
  {
   "cell_type": "code",
   "execution_count": 198,
   "metadata": {},
   "outputs": [
    {
     "name": "stdout",
     "output_type": "stream",
     "text": [
      "Array is :\n",
      " [ 2  3  4  5  6  7  8 10 20 30 40 50]\n",
      "Number of dimensions are :  1\n",
      "Shape of an array is :  (12,)\n"
     ]
    }
   ],
   "source": [
    "arr1 = np.array([2,3,4,5,6,7,8,10,20,30,40,50])\n",
    "print(\"Array is :\\n\",arr1)\n",
    "print(\"Number of dimensions are : \",arr1.ndim)\n",
    "print(\"Shape of an array is : \",arr1.shape)"
   ]
  },
  {
   "cell_type": "raw",
   "metadata": {},
   "source": [
    "(2,3,4) >> 3D shape\n",
    "(4,5) >> 2D shape\n",
    "(5,)  >> 1D shape"
   ]
  },
  {
   "cell_type": "code",
   "execution_count": 199,
   "metadata": {},
   "outputs": [
    {
     "name": "stdout",
     "output_type": "stream",
     "text": [
      "Array is :\n",
      " [ 2  3  4  5  6  7  8 10 20 30 40 50]\n",
      "Number of dimensions are :  1\n",
      "Shape of an array is :  (12,)\n"
     ]
    }
   ],
   "source": [
    "arr1 = np.array([2,3,4,5,6,7,8,10,20,30,40,50])\n",
    "print(\"Array is :\\n\",arr1)\n",
    "print(\"Number of dimensions are : \",arr1.ndim)\n",
    "print(\"Shape of an array is : \",arr1.shape)\n",
    "\n",
    "# arr1.reshape(rows_count,columns_count)\n"
   ]
  },
  {
   "cell_type": "raw",
   "metadata": {},
   "source": [
    "12:\n",
    "1,12\n",
    "2,6\n",
    "3,4\n",
    "4,3\n",
    "6,2\n",
    "12,1\n"
   ]
  },
  {
   "cell_type": "code",
   "execution_count": 201,
   "metadata": {},
   "outputs": [
    {
     "name": "stdout",
     "output_type": "stream",
     "text": [
      "Array is :\n",
      " [[ 2  3  4  5  6  7]\n",
      " [ 8 10 20 30 40 50]]\n",
      "Number of dimensions are :  2\n",
      "Shape of an array is :  (2, 6)\n"
     ]
    }
   ],
   "source": [
    "arr1 = np.array([2,3,4,5,6,7,8,10,20,30,40,50])\n",
    "\n",
    "arr1 = arr1.reshape(2,6)\n",
    "print(\"Array is :\\n\",arr1)\n",
    "print(\"Number of dimensions are : \",arr1.ndim)\n",
    "print(\"Shape of an array is : \",arr1.shape)"
   ]
  },
  {
   "cell_type": "code",
   "execution_count": 203,
   "metadata": {},
   "outputs": [
    {
     "name": "stdout",
     "output_type": "stream",
     "text": [
      "Array is :\n",
      " [[ 2  3  4  5]\n",
      " [ 6  7  8 10]\n",
      " [20 30 40 50]]\n",
      "Number of dimensions are :  2\n",
      "Shape of an array is :  (3, 4)\n"
     ]
    }
   ],
   "source": [
    "arr1 = np.array([2,3,4,5,6,7,8,10,20,30,40,50])\n",
    "\n",
    "arr1 = arr1.reshape(3,4)\n",
    "print(\"Array is :\\n\",arr1)\n",
    "print(\"Number of dimensions are : \",arr1.ndim)\n",
    "print(\"Shape of an array is : \",arr1.shape)"
   ]
  },
  {
   "cell_type": "code",
   "execution_count": 205,
   "metadata": {},
   "outputs": [
    {
     "name": "stdout",
     "output_type": "stream",
     "text": [
      "Array is :\n",
      " [[ 2  3  4]\n",
      " [ 5  6  7]\n",
      " [ 8 10 20]\n",
      " [30 40 50]]\n",
      "Number of dimensions are :  2\n",
      "Shape of an array is :  (4, 3)\n"
     ]
    }
   ],
   "source": [
    "arr1 = np.array([2,3,4,5,6,7,8,10,20,30,40,50])\n",
    "\n",
    "arr1 = arr1.reshape(4,3)\n",
    "print(\"Array is :\\n\",arr1)\n",
    "print(\"Number of dimensions are : \",arr1.ndim)\n",
    "print(\"Shape of an array is : \",arr1.shape)"
   ]
  },
  {
   "cell_type": "code",
   "execution_count": 207,
   "metadata": {},
   "outputs": [
    {
     "name": "stdout",
     "output_type": "stream",
     "text": [
      "Array is :\n",
      " [[ 2  3]\n",
      " [ 4  5]\n",
      " [ 6  7]\n",
      " [ 8 10]\n",
      " [20 30]\n",
      " [40 50]]\n",
      "Number of dimensions are :  2\n",
      "Shape of an array is :  (6, 2)\n"
     ]
    }
   ],
   "source": [
    "arr1 = np.array([2,3,4,5,6,7,8,10,20,30,40,50])\n",
    "\n",
    "arr1 = arr1.reshape(6,2)\n",
    "print(\"Array is :\\n\",arr1)\n",
    "print(\"Number of dimensions are : \",arr1.ndim)\n",
    "print(\"Shape of an array is : \",arr1.shape)"
   ]
  },
  {
   "cell_type": "code",
   "execution_count": 213,
   "metadata": {},
   "outputs": [
    {
     "name": "stdout",
     "output_type": "stream",
     "text": [
      "Array is :\n",
      " [[ 2]\n",
      " [ 3]\n",
      " [ 4]\n",
      " [ 5]\n",
      " [ 6]\n",
      " [ 7]\n",
      " [ 8]\n",
      " [10]\n",
      " [20]\n",
      " [30]\n",
      " [40]\n",
      " [50]]\n",
      "Number of dimensions are :  2\n",
      "Shape of an array is :  (12, 1)\n"
     ]
    }
   ],
   "source": [
    "arr1 = np.array([2,3,4,5,6,7,8,10,20,30,40,50])\n",
    "\n",
    "arr1 = arr1.reshape(12,1)\n",
    "print(\"Array is :\\n\",arr1)\n",
    "print(\"Number of dimensions are : \",arr1.ndim)\n",
    "print(\"Shape of an array is : \",arr1.shape)"
   ]
  },
  {
   "cell_type": "code",
   "execution_count": 215,
   "metadata": {},
   "outputs": [
    {
     "name": "stdout",
     "output_type": "stream",
     "text": [
      "Array is :\n",
      " [[[ 2  3]\n",
      "  [ 4  5]]\n",
      "\n",
      " [[ 6  7]\n",
      "  [ 8 10]]\n",
      "\n",
      " [[20 30]\n",
      "  [40 50]]]\n",
      "Number of dimensions are :  3\n",
      "Shape of an array is :  (3, 2, 2)\n"
     ]
    }
   ],
   "source": [
    "arr1 = np.array([2,3,4,5,6,7,8,10,20,30,40,50])\n",
    "\n",
    "arr1 = arr1.reshape(3,2,2)\n",
    "print(\"Array is :\\n\",arr1)\n",
    "print(\"Number of dimensions are : \",arr1.ndim)\n",
    "print(\"Shape of an array is : \",arr1.shape)"
   ]
  },
  {
   "cell_type": "code",
   "execution_count": 217,
   "metadata": {},
   "outputs": [
    {
     "name": "stdout",
     "output_type": "stream",
     "text": [
      "Array is :\n",
      " [[[ 2  3  4]]\n",
      "\n",
      " [[ 5  6  7]]\n",
      "\n",
      " [[ 8 10 20]]\n",
      "\n",
      " [[30 40 50]]]\n",
      "Number of dimensions are :  3\n",
      "Shape of an array is :  (4, 1, 3)\n"
     ]
    }
   ],
   "source": [
    "arr1 = np.array([2,3,4,5,6,7,8,10,20,30,40,50])\n",
    "\n",
    "arr1 = arr1.reshape(4,1,3)\n",
    "print(\"Array is :\\n\",arr1)\n",
    "print(\"Number of dimensions are : \",arr1.ndim)\n",
    "print(\"Shape of an array is : \",arr1.shape)"
   ]
  },
  {
   "cell_type": "code",
   "execution_count": 219,
   "metadata": {},
   "outputs": [
    {
     "name": "stdout",
     "output_type": "stream",
     "text": [
      "Array is :\n",
      " [[[ 2  3  4  5]\n",
      "  [ 6  7  8 10]\n",
      "  [20 30 40 50]]]\n",
      "Number of dimensions are :  3\n",
      "Shape of an array is :  (1, 3, 4)\n"
     ]
    }
   ],
   "source": [
    "arr1 = np.array([2,3,4,5,6,7,8,10,20,30,40,50])\n",
    "\n",
    "arr1 = arr1.reshape(1,3,4)\n",
    "print(\"Array is :\\n\",arr1)\n",
    "print(\"Number of dimensions are : \",arr1.ndim)\n",
    "print(\"Shape of an array is : \",arr1.shape)"
   ]
  },
  {
   "cell_type": "code",
   "execution_count": 212,
   "metadata": {},
   "outputs": [
    {
     "name": "stdout",
     "output_type": "stream",
     "text": [
      "Array is :\n",
      " [[ 2  3  4  5]\n",
      " [ 6  7  8 10]\n",
      " [20 30 40 50]]\n",
      "Number of dimensions are :  2\n",
      "Shape of an array is :  (3, 4)\n"
     ]
    }
   ],
   "source": [
    "arr2= np.array([[2,3,4,5],[6,7,8,10],[20,30,40,50]])\n",
    "print(\"Array is :\\n\",arr2)\n",
    "print(\"Number of dimensions are : \",arr2.ndim)\n",
    "print(\"Shape of an array is : \",arr2.shape)"
   ]
  },
  {
   "cell_type": "code",
   "execution_count": 225,
   "metadata": {},
   "outputs": [
    {
     "name": "stdout",
     "output_type": "stream",
     "text": [
      "Array is :\n",
      " [[[ 2  3]\n",
      "  [ 4  5]\n",
      "  [ 6  7]]\n",
      "\n",
      " [[ 8 10]\n",
      "  [20 30]\n",
      "  [40 50]]]\n",
      "Number of dimensions are :  3\n",
      "Shape of an array is :  (2, 3, 2)\n"
     ]
    }
   ],
   "source": [
    "arr2= np.array([[2,3,4,5],[6,7,8,10],[20,30,40,50]])\n",
    "arr2 = arr2.reshape(2,3,2)\n",
    "\n",
    "print(\"Array is :\\n\",arr2)\n",
    "print(\"Number of dimensions are : \",arr2.ndim)\n",
    "print(\"Shape of an array is : \",arr2.shape)"
   ]
  },
  {
   "cell_type": "code",
   "execution_count": 228,
   "metadata": {},
   "outputs": [
    {
     "name": "stdout",
     "output_type": "stream",
     "text": [
      "Array is :\n",
      " [ 2  3  4  5  6  7  8 10 20 30 40 50]\n",
      "Number of dimensions are :  1\n",
      "Shape of an array is :  (12,)\n"
     ]
    }
   ],
   "source": [
    "arr2= np.array([[2,3,4,5],[6,7,8,10],[20,30,40,50]])\n",
    "arr2 = arr2.reshape(12)\n",
    "\n",
    "print(\"Array is :\\n\",arr2)\n",
    "print(\"Number of dimensions are : \",arr2.ndim)\n",
    "print(\"Shape of an array is : \",arr2.shape)"
   ]
  },
  {
   "cell_type": "code",
   "execution_count": 231,
   "metadata": {},
   "outputs": [
    {
     "name": "stdout",
     "output_type": "stream",
     "text": [
      "[2, 3, 4, 5, 6, 7, 8, 10, 20, 30, 40, 50] <class 'list'>\n"
     ]
    }
   ],
   "source": [
    "l1 = list(arr2)\n",
    "print(l1,type(l1))"
   ]
  },
  {
   "cell_type": "code",
   "execution_count": 235,
   "metadata": {},
   "outputs": [
    {
     "name": "stdout",
     "output_type": "stream",
     "text": [
      "[2, 3, 4, 5, 6, 7, 8, 10, 20, 30, 40, 50] <class 'list'>\n"
     ]
    }
   ],
   "source": [
    "l2 = arr2.tolist()\n",
    "print(l2,type(l2))"
   ]
  },
  {
   "cell_type": "code",
   "execution_count": 236,
   "metadata": {},
   "outputs": [
    {
     "name": "stdout",
     "output_type": "stream",
     "text": [
      "[2, 3, 4, 5, 6, 7, 8, 10, 20, 30, 40, 50] <class 'list'>\n"
     ]
    }
   ],
   "source": [
    "arr2= np.array([[2,3,4,5],[6,7,8,10],[20,30,40,50]])\n",
    "list2 = arr2.tolist()\n",
    "print(list2,type(l2))"
   ]
  }
 ],
 "metadata": {
  "kernelspec": {
   "display_name": "Python 3",
   "language": "python",
   "name": "python3"
  },
  "language_info": {
   "codemirror_mode": {
    "name": "ipython",
    "version": 3
   },
   "file_extension": ".py",
   "mimetype": "text/x-python",
   "name": "python",
   "nbconvert_exporter": "python",
   "pygments_lexer": "ipython3",
   "version": "3.7.3"
  }
 },
 "nbformat": 4,
 "nbformat_minor": 5
}

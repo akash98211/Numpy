{
 "cells": [
  {
   "cell_type": "markdown",
   "id": "moving-mount",
   "metadata": {},
   "source": [
    "# important Libraries in Data science"
   ]
  },
  {
   "cell_type": "code",
   "execution_count": null,
   "id": "ideal-identity",
   "metadata": {},
   "outputs": [],
   "source": [
    "1. Numpy \n",
    "2. Pandas (50) (20% visualization)\n",
    "3. matplotlib\n",
    "4. seaborn\n",
    "5. sklearn(scikit-learn)\n",
    "6. tensorflow\n",
    "7. nltk"
   ]
  },
  {
   "cell_type": "code",
   "execution_count": null,
   "id": "corrected-junior",
   "metadata": {},
   "outputs": [],
   "source": []
  }
 ],
 "metadata": {
  "kernelspec": {
   "display_name": "Python 3 (ipykernel)",
   "language": "python",
   "name": "python3"
  },
  "language_info": {
   "codemirror_mode": {
    "name": "ipython",
    "version": 3
   },
   "file_extension": ".py",
   "mimetype": "text/x-python",
   "name": "python",
   "nbconvert_exporter": "python",
   "pygments_lexer": "ipython3",
   "version": "3.9.1"
  }
 },
 "nbformat": 4,
 "nbformat_minor": 5
}

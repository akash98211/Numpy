{
 "cells": [
  {
   "cell_type": "markdown",
   "id": "golden-wesley",
   "metadata": {},
   "source": [
    "# Linear Algebra"
   ]
  },
  {
   "cell_type": "code",
   "execution_count": null,
   "id": "damaged-lounge",
   "metadata": {},
   "outputs": [],
   "source": [
    "3x + 4y = 15\n",
    "5x + 6y = 20\n",
    "x =  ? -5\n",
    "y = ? 7.5"
   ]
  },
  {
   "cell_type": "code",
   "execution_count": null,
   "id": "improving-asthma",
   "metadata": {},
   "outputs": [],
   "source": [
    "AX = B\n",
    "A = [[3 4\n",
    "     5 6]]\n",
    "\n",
    "X = [x y]\n",
    "B = [15 20]"
   ]
  },
  {
   "cell_type": "code",
   "execution_count": 1,
   "id": "german-proxy",
   "metadata": {},
   "outputs": [],
   "source": [
    "import numpy as np"
   ]
  },
  {
   "cell_type": "code",
   "execution_count": 6,
   "id": "subject-probe",
   "metadata": {},
   "outputs": [
    {
     "name": "stdout",
     "output_type": "stream",
     "text": [
      "Array is \n",
      " [[3 4]\n",
      " [5 6]]\n",
      "Array B is \n",
      " [15 20]\n"
     ]
    }
   ],
   "source": [
    "A = np.array([[3,4], [5,6]])\n",
    "print('Array is \\n',A)\n",
    "\n",
    "B = np.array([15,20])\n",
    "print(\"Array B is \\n\",B)"
   ]
  },
  {
   "cell_type": "code",
   "execution_count": 8,
   "id": "metropolitan-composer",
   "metadata": {},
   "outputs": [
    {
     "data": {
      "text/plain": [
       "array([[-3. ,  2. ],\n",
       "       [ 2.5, -1.5]])"
      ]
     },
     "execution_count": 8,
     "metadata": {},
     "output_type": "execute_result"
    }
   ],
   "source": [
    "np.linalg.inv(A)"
   ]
  },
  {
   "cell_type": "code",
   "execution_count": 9,
   "id": "circular-payroll",
   "metadata": {},
   "outputs": [
    {
     "data": {
      "text/plain": [
       "array([-5. ,  7.5])"
      ]
     },
     "execution_count": 9,
     "metadata": {},
     "output_type": "execute_result"
    }
   ],
   "source": [
    "np.linalg.solve(A,B)"
   ]
  },
  {
   "cell_type": "raw",
   "id": "considered-radio",
   "metadata": {},
   "source": [
    "2x + 3y -5z = 10\n",
    "3x - 5y + 7z = 15\n",
    "4x + 2y + 10z = 30"
   ]
  },
  {
   "cell_type": "code",
   "execution_count": 11,
   "id": "noticed-aberdeen",
   "metadata": {},
   "outputs": [
    {
     "data": {
      "text/plain": [
       "array([5.15151515, 1.09848485, 0.71969697])"
      ]
     },
     "execution_count": 11,
     "metadata": {},
     "output_type": "execute_result"
    }
   ],
   "source": [
    "A = np.array([[2,3,-5],[3,-5,7],[4,2,10]])\n",
    "B = np.array([10,15,30])\n",
    "np.linalg.solve(A,B)"
   ]
  }
 ],
 "metadata": {
  "kernelspec": {
   "display_name": "Python 3",
   "language": "python",
   "name": "python3"
  },
  "language_info": {
   "codemirror_mode": {
    "name": "ipython",
    "version": 3
   },
   "file_extension": ".py",
   "mimetype": "text/x-python",
   "name": "python",
   "nbconvert_exporter": "python",
   "pygments_lexer": "ipython3",
   "version": "3.8.7"
  }
 },
 "nbformat": 4,
 "nbformat_minor": 5
}

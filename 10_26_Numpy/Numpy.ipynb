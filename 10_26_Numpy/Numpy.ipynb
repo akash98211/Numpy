{
 "cells": [
  {
   "cell_type": "code",
   "execution_count": 1,
   "id": "muslim-polish",
   "metadata": {},
   "outputs": [],
   "source": [
    "import numpy as np"
   ]
  },
  {
   "cell_type": "code",
   "execution_count": 32,
   "id": "subjective-baking",
   "metadata": {},
   "outputs": [],
   "source": [
    "l1 = [3,4,5,6,7]\n",
    "# l1 = [6,8,10,12,14]"
   ]
  },
  {
   "cell_type": "code",
   "execution_count": 33,
   "id": "private-elimination",
   "metadata": {},
   "outputs": [
    {
     "data": {
      "text/plain": [
       "25"
      ]
     },
     "execution_count": 33,
     "metadata": {},
     "output_type": "execute_result"
    }
   ],
   "source": [
    "sum(l1)"
   ]
  },
  {
   "cell_type": "code",
   "execution_count": 6,
   "id": "bound-jimmy",
   "metadata": {},
   "outputs": [
    {
     "name": "stdout",
     "output_type": "stream",
     "text": [
      "Array is : [3 4 5 6 7]\n"
     ]
    }
   ],
   "source": [
    "arr = np.array(l1)\n",
    "print(\"Array is :\",arr)"
   ]
  },
  {
   "cell_type": "code",
   "execution_count": 8,
   "id": "broke-recipe",
   "metadata": {},
   "outputs": [
    {
     "data": {
      "text/plain": [
       "array([ 6,  8, 10, 12, 14])"
      ]
     },
     "execution_count": 8,
     "metadata": {},
     "output_type": "execute_result"
    }
   ],
   "source": [
    "arr * 2"
   ]
  },
  {
   "cell_type": "code",
   "execution_count": 10,
   "id": "aging-expansion",
   "metadata": {},
   "outputs": [
    {
     "data": {
      "text/plain": [
       "array([1.5, 2. , 2.5, 3. , 3.5])"
      ]
     },
     "execution_count": 10,
     "metadata": {},
     "output_type": "execute_result"
    }
   ],
   "source": [
    "arr / 2"
   ]
  },
  {
   "cell_type": "code",
   "execution_count": 12,
   "id": "single-consensus",
   "metadata": {},
   "outputs": [
    {
     "data": {
      "text/plain": [
       "array([ 9, 16, 25, 36, 49], dtype=int32)"
      ]
     },
     "execution_count": 12,
     "metadata": {},
     "output_type": "execute_result"
    }
   ],
   "source": [
    "arr ** 2"
   ]
  },
  {
   "cell_type": "code",
   "execution_count": 14,
   "id": "hawaiian-system",
   "metadata": {},
   "outputs": [
    {
     "data": {
      "text/plain": [
       "array([1, 2, 2, 3, 3], dtype=int32)"
      ]
     },
     "execution_count": 14,
     "metadata": {},
     "output_type": "execute_result"
    }
   ],
   "source": [
    "arr // 2"
   ]
  },
  {
   "cell_type": "code",
   "execution_count": 17,
   "id": "stuck-artwork",
   "metadata": {},
   "outputs": [
    {
     "data": {
      "text/plain": [
       "array([1, 0, 1, 0, 1], dtype=int32)"
      ]
     },
     "execution_count": 17,
     "metadata": {},
     "output_type": "execute_result"
    }
   ],
   "source": [
    "arr % 2"
   ]
  },
  {
   "cell_type": "code",
   "execution_count": 18,
   "id": "adult-chair",
   "metadata": {},
   "outputs": [
    {
     "data": {
      "text/plain": [
       "array([0, 1, 2, 0, 1], dtype=int32)"
      ]
     },
     "execution_count": 18,
     "metadata": {},
     "output_type": "execute_result"
    }
   ],
   "source": [
    "arr % 3"
   ]
  },
  {
   "cell_type": "code",
   "execution_count": 20,
   "id": "aquatic-warehouse",
   "metadata": {},
   "outputs": [
    {
     "name": "stdout",
     "output_type": "stream",
     "text": [
      "[19683, 262144, 1953125, 10077696, 40353607]\n"
     ]
    }
   ],
   "source": [
    "arr = arr ** 3\n",
    "result = arr.tolist()\n",
    "print(result)"
   ]
  },
  {
   "cell_type": "code",
   "execution_count": 22,
   "id": "optimum-strand",
   "metadata": {},
   "outputs": [
    {
     "data": {
      "text/plain": [
       "array([15, 24, 32, 45])"
      ]
     },
     "execution_count": 22,
     "metadata": {},
     "output_type": "execute_result"
    }
   ],
   "source": [
    "a1 = np.array([10,20,30,40])\n",
    "a2 = np.array([5,4,2,5])\n",
    "a1 + a2"
   ]
  },
  {
   "cell_type": "code",
   "execution_count": 25,
   "id": "earlier-mistake",
   "metadata": {},
   "outputs": [
    {
     "data": {
      "text/plain": [
       "array([15, 24, 32, 45])"
      ]
     },
     "execution_count": 25,
     "metadata": {},
     "output_type": "execute_result"
    }
   ],
   "source": [
    "a1 = np.array([10,20,30,40])\n",
    "a2 = np.array([5,4,2,5])\n",
    "a1 + a2"
   ]
  },
  {
   "cell_type": "code",
   "execution_count": 27,
   "id": "intellectual-simple",
   "metadata": {},
   "outputs": [
    {
     "data": {
      "text/plain": [
       "array([ 50,  80,  60, 200])"
      ]
     },
     "execution_count": 27,
     "metadata": {},
     "output_type": "execute_result"
    }
   ],
   "source": [
    "a1 = np.array([10,20,30,40])\n",
    "a2 = np.array([5,4,2,5])\n",
    "a1 * a2"
   ]
  },
  {
   "cell_type": "code",
   "execution_count": 29,
   "id": "going-collaboration",
   "metadata": {},
   "outputs": [
    {
     "data": {
      "text/plain": [
       "array([15, 24, 32, 45])"
      ]
     },
     "execution_count": 29,
     "metadata": {},
     "output_type": "execute_result"
    }
   ],
   "source": [
    "np.add(a1,a2)"
   ]
  },
  {
   "cell_type": "code",
   "execution_count": 31,
   "id": "ecological-passenger",
   "metadata": {},
   "outputs": [
    {
     "data": {
      "text/plain": [
       "100"
      ]
     },
     "execution_count": 31,
     "metadata": {},
     "output_type": "execute_result"
    }
   ],
   "source": [
    "np.sum(a1)"
   ]
  },
  {
   "cell_type": "code",
   "execution_count": 34,
   "id": "practical-sauce",
   "metadata": {},
   "outputs": [
    {
     "data": {
      "text/plain": [
       "100"
      ]
     },
     "execution_count": 34,
     "metadata": {},
     "output_type": "execute_result"
    }
   ],
   "source": [
    "np.sum(a1)"
   ]
  },
  {
   "cell_type": "code",
   "execution_count": 36,
   "id": "scheduled-italic",
   "metadata": {},
   "outputs": [],
   "source": [
    "a1 = np.array([[10,20],[30,40]])\n",
    "a2 = np.array([[5,4],[2,5]])"
   ]
  },
  {
   "cell_type": "code",
   "execution_count": 38,
   "id": "located-screen",
   "metadata": {},
   "outputs": [
    {
     "name": "stdout",
     "output_type": "stream",
     "text": [
      "Array1 is \n",
      " [[10 20]\n",
      " [30 40]]\n",
      "Array2 is \n",
      " [[5 4]\n",
      " [2 5]]\n"
     ]
    }
   ],
   "source": [
    "print('Array1 is \\n',a1)\n",
    "print(\"Array2 is \\n\",a2)"
   ]
  },
  {
   "cell_type": "markdown",
   "id": "southwest-edward",
   "metadata": {},
   "source": [
    "### Matrix Addition"
   ]
  },
  {
   "cell_type": "code",
   "execution_count": 40,
   "id": "optical-algebra",
   "metadata": {},
   "outputs": [
    {
     "data": {
      "text/plain": [
       "array([[15, 24],\n",
       "       [32, 45]])"
      ]
     },
     "execution_count": 40,
     "metadata": {},
     "output_type": "execute_result"
    }
   ],
   "source": [
    "np.add(a1,a2)"
   ]
  },
  {
   "cell_type": "markdown",
   "id": "subsequent-carry",
   "metadata": {},
   "source": [
    "### Matrix Multiplication"
   ]
  },
  {
   "cell_type": "code",
   "execution_count": 41,
   "id": "lightweight-astrology",
   "metadata": {},
   "outputs": [
    {
     "name": "stdout",
     "output_type": "stream",
     "text": [
      "Array1 is \n",
      " [[10 20]\n",
      " [30 40]]\n",
      "Array2 is \n",
      " [[5 4]\n",
      " [2 5]]\n"
     ]
    }
   ],
   "source": [
    "print('Array1 is \\n',a1)\n",
    "print(\"Array2 is \\n\",a2)"
   ]
  },
  {
   "cell_type": "code",
   "execution_count": 43,
   "id": "smaller-projector",
   "metadata": {},
   "outputs": [
    {
     "data": {
      "text/plain": [
       "array([[ 50,  80],\n",
       "       [ 60, 200]])"
      ]
     },
     "execution_count": 43,
     "metadata": {},
     "output_type": "execute_result"
    }
   ],
   "source": [
    "np.multiply(a1,a2)"
   ]
  },
  {
   "cell_type": "markdown",
   "id": "above-charger",
   "metadata": {},
   "source": [
    "### Matrix Dot product"
   ]
  },
  {
   "cell_type": "code",
   "execution_count": 45,
   "id": "secure-louisville",
   "metadata": {},
   "outputs": [
    {
     "name": "stdout",
     "output_type": "stream",
     "text": [
      "Matrix 1 is :\n",
      " [[2 3]\n",
      " [4 6]]\n",
      "Matrix 2 is :\n",
      " [[5 4]\n",
      " [2 5]]\n"
     ]
    }
   ],
   "source": [
    "matrix1 = np.array([[2,3],[4,6]])\n",
    "matrix2 = np.array([[5,4],[2,5]])\n",
    "\n",
    "print(\"Matrix 1 is :\\n\",matrix1)\n",
    "print(\"Matrix 2 is :\\n\",matrix2)"
   ]
  },
  {
   "cell_type": "code",
   "execution_count": 48,
   "id": "democratic-jersey",
   "metadata": {},
   "outputs": [
    {
     "data": {
      "text/plain": [
       "array([[16, 23],\n",
       "       [32, 46]])"
      ]
     },
     "execution_count": 48,
     "metadata": {},
     "output_type": "execute_result"
    }
   ],
   "source": [
    "np.dot(matrix1,matrix2)\n",
    "\n",
    "# 2*5 + 3*2    2*4 + 3*5\n",
    "# 4*5 + 6*2    4*4 + 6*5"
   ]
  },
  {
   "cell_type": "code",
   "execution_count": 52,
   "id": "modular-friday",
   "metadata": {},
   "outputs": [
    {
     "name": "stdout",
     "output_type": "stream",
     "text": [
      "Matrix 1 is :\n",
      " [[2 3]\n",
      " [4 6]\n",
      " [3 4]]\n",
      "Matrix 2 is :\n",
      " [[5 4]\n",
      " [2 5]]\n"
     ]
    }
   ],
   "source": [
    "matrix1 = np.array([[2,3],[4,6],[3,4]])  # 3*2\n",
    "matrix2 = np.array([[5,4],[2,5]])   # 2 * \n",
    "\n",
    "print(\"Matrix 1 is :\\n\",matrix1)\n",
    "print(\"Matrix 2 is :\\n\",matrix2)"
   ]
  },
  {
   "cell_type": "code",
   "execution_count": 53,
   "id": "medical-saver",
   "metadata": {},
   "outputs": [
    {
     "data": {
      "text/plain": [
       "array([[16, 23],\n",
       "       [32, 46],\n",
       "       [23, 32]])"
      ]
     },
     "execution_count": 53,
     "metadata": {},
     "output_type": "execute_result"
    }
   ],
   "source": [
    "np.dot(matrix1,matrix2)  "
   ]
  },
  {
   "cell_type": "code",
   "execution_count": null,
   "id": "suspected-chase",
   "metadata": {},
   "outputs": [],
   "source": [
    "2 * 4 \n",
    "4 * 5\n",
    "2*5\n",
    "\n",
    "3*3   2*3"
   ]
  }
 ],
 "metadata": {
  "kernelspec": {
   "display_name": "Python 3",
   "language": "python",
   "name": "python3"
  },
  "language_info": {
   "codemirror_mode": {
    "name": "ipython",
    "version": 3
   },
   "file_extension": ".py",
   "mimetype": "text/x-python",
   "name": "python",
   "nbconvert_exporter": "python",
   "pygments_lexer": "ipython3",
   "version": "3.8.7"
  }
 },
 "nbformat": 4,
 "nbformat_minor": 5
}
